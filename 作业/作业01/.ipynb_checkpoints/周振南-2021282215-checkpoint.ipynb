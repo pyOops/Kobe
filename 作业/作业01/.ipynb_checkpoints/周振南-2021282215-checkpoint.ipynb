{
 "cells": [
  {
   "cell_type": "markdown",
   "id": "60f45530-60a7-4192-b172-237b167cf5c5",
   "metadata": {},
   "source": [
    "<center>\n",
    "    <h1>\n",
    "        <b>\n",
    "                    Resistance Tests on an <i>Arun<i> Lifeboat Hull\n",
    "        </b>\n",
    "    </h1>\n",
    "</center>"
   ]
  },
  {
   "cell_type": "markdown",
   "id": "4a07b352-a08f-4692-a9c0-914b4f2ba406",
   "metadata": {},
   "source": [
    "### **_Aim_**\n",
    "To predict the naked hull effective power requirements of a full scale Arun lifeboat, over a range of speeds, based on model tests carried out in the Austin Lamont towing tank in the university.\n",
    "\n",
    "### **_Objectives_**\n",
    "a) Based on the estimated effective power for the Arun Class lifeboat, figure 1, plan the speeds at which you will take resistance measurements. Conduct the experiment allowing for repeat runs in order to determine the experimental uncertainty.\n",
    "\n",
    "b) Calculate the skin friction coefficient, $C_F$, at model scale ($C_{FM}$) using the ITTC 57 correlation line.\n",
    "\n",
    "c) Determine the non-dimensional residuary resistance coefficient, $C_R$."
   ]
  },
  {
   "cell_type": "markdown",
   "id": "f4353a6f-874e-4775-a90a-58ec02c54be9",
   "metadata": {},
   "source": [
    "### **Background**\n",
    "A standard method of estimating the full-scale resistance, and hence naked hull effective power, is to carry out measurements of total resistance on a scale model of the full-scale vessel. The laboratory experiment is representative of this process and uses one of the analysis methods for extrapolating full-scale data using the ITTC 57 skin friction correlation line.\n",
    "\n",
    "The hull model is attached via a point fixture to a tow post which allows the model freedom to pitch and heave while being towed. The tow post is attached to the carriage through a dynamometer. The dynamometer allows drag (resistance) force acting on the model to be measured. The signal can be filtered to remove some of the oscillations and the final analogue signal is fed into an analogue to digital (AtoD) converter and the digital signal is recorded in a computer via a data acquisition card. Once the signal has been calibrated the output displayed on the screen provides a measurement of the forces acting on the model.\n",
    "\n",
    "In order to measure the drag force with as much accuracy as possible the following operations are required:\n",
    "\n",
    "a) The dynamometer should be calibrated by applying a known load. In addition the zero level is determined when the model is stationary in calm water.\n",
    "\n",
    "b) Where necessary, offset weights can be used to ensure that at higher towing speeds, the dynamometer does not touch the stops. The use of relieving weights ensures that the difference between resistance and offset weight lies in the measurement range and therefore the dynamometer will not touch the stops.\n",
    "\n",
    "The model centre-line should be aligned with the tank centre-line so that the model has no yaw angle to the direction of travel. Checking the level of side force after each run will verify that the yaw angle has been set correctly. The model should be ballasted to the correct waterline in terms of total displacement and the trim angle. Both yaw and trim can have a significant influence on the levels of drag. The model is also fitted with a series of trip studs near the stem and these ensure that turbulent flow develops close to the leading edge of the model. This essentially creates a flow regime over the model that is similar to that of the ship at full scale.\n",
    "\n",
    "It is essential to measure and record the water temperature in the towing tank so that the correct values of kinematic viscosity can be used. Note that the water in the towing tank is fresh water, whereas the full-scale vessel is assumed to operate in seawater.\n",
    "\n",
    "The towing carriage in the Lamont tank can be driven at speeds of up to 2.5m/s, but for these tests a maximum speed of 2.2m/s is to be used. The carriage moves the model backwards to the far end of the tank prior to each test run. The model tests should be carried out in calm water. The presence of waves will alter the measured resistance and hence alter the prediction of the power required at full scale. It is therefore necessary to wait before commencing each run until the water in the tank is quiescent. Once a test run is started, the carriage will accelerate to the pre-set steady speed, it then holds this steady speed over a measured distance of approximately 10m, after which it is decelerated to rest. The measurement of the force is usually taken as a mean value over the steady-speed region of the run. It is also prudent to examine the complete measured signal as this can provide insight into the quality of the data and indicate any problems that may develop.\n"
   ]
  },
  {
   "cell_type": "markdown",
   "id": "1d70ed44-cfd9-43b6-9c79-37e192ad51f6",
   "metadata": {},
   "source": [
    "### **_Experimental procedure_**\n",
    "1) Measure and record the tank water temperature and read-off the corresponding value of kinematic viscosity from Table 2.\n",
    "\n",
    "2) Weigh the Arun lifeboat model and tow fitting and therefore calculate the ballast weight required to provide the correct displacement. This should be within 1% of the total displacement required.\n",
    "\n",
    "3) Switch on the computer and run the data acquisition program. Ensure that the signal amplifiers are switched on and confirm that the data acquisition program is receiving signals from the correct transducers (i.e. drag and side force). Further instruction on the data acquisition program will be provided by the lab supervisor.\n",
    "\n",
    "4) Calibrate the drag and side force dynamometers by applying known weights to the different load cells (0N, 2.5N & 5N are typical values to use). Further instruction will be provided on how to accomplish this by the lab supervisor.\n",
    "\n",
    "5) Carry out a series of towing tests for the required range of speeds. Ensure that the water is quiescent before the start of each run. Acquire data using the data acquisition program whilst the model is travelling through the steady speed region of the run. The carriage control software logs the speed of the run. By estimating the time the model should take to go through the steady speed section you will be able to stop the data recording just before the model leaves the steady speed section (and starts to decelerate). Obviously, any part of the record taken outside the steady speed section will have to be truncated to give an accurate level of the constant force required to propel the model at the requested steady speed. At the end of the run, note the mean levels of the forces. Furthermore, you will be able to determine if, and how much, offset weight is required for the higher spee\n",
    "6) Use the interval between runs to examine the full data records from the previous run and also keep an ongoing plot of $C_{TM}$ against $F_n$. Both of these actions will allow you to verify the quality of the data, and foresee any problems that may develop\n",
    "\n",
    "7) You should repeat any runs where the data appears to be suspect (and note the reason for this choice). Furthermore, you should repeat one of the runs at least once (or more if time permits) to determine the levels of repeatability of the experiment. This is particularly important as you should comment on the implications of the experimental variation on the calculations of effective power for the full scale ship.d runs.\n",
    "\n"
   ]
  },
  {
   "cell_type": "markdown",
   "id": "0a5502a6-d93e-4bed-a96d-70884c5505b3",
   "metadata": {},
   "source": [
    "### **_Laboratory report_**\n",
    "You should keep your report clear and concise, and adopt an accepted technical writing style. The report should include clear statements of the aim and objectives. You should briefly present the methodology, although a word-for-word transcription of the supplied guidance is not required; a critique on the practicalities and challenges involved in the procedure may be appropriate. You should include a presentation of your results and analysis in graphical forms, clearly showing the workings and written explanations of the progression from one stage of the analysis to the next. In particular, you should include a plot of the raw data ($\\text{R}_{\\text{TM}}$ v Speed), a plot showing $C_{TM}$, $C_{RM}$ and $C_{FM}$. It would also be appropriate to comment on the general shape of these plots and the relative contributions the different physical components of drag to the total drag. You should also provide analysis to indicate the effects of experimental variation on these predictions. Your report should finish with a summary, drawing together salient points and conclusion of the tests and the resulting predictions. You are also encouraged to supplement your understanding and intellectual critique of this laboratory by using standard naval architecture texts."
   ]
  },
  {
   "cell_type": "markdown",
   "id": "daa17781-3c0a-4a27-b663-4a8d0ae3b56a",
   "metadata": {},
   "source": [
    "### **_Relevant Data_**\n",
    "$$\n",
    "1 \\ \\text{knot} = 0.5144 \\ \\text{m/s}\n",
    "$$"
   ]
  },
  {
   "cell_type": "markdown",
   "id": "8275a6cb-4b4e-416f-aaf4-f279725a0da1",
   "metadata": {},
   "source": [
    "### **_Model Data_**\n",
    "Wetted surface area $\\quad S_m=0.423 \\ \\text{m}^2$\n",
    "\n",
    "Waterline length $\\quad \\text{LWL}=1.168 \\ \\text{m}$\n",
    "\n",
    "Weight of towing post and guides $\\quad 1.32 \\ \\text{kg}$\n",
    "\n",
    "Model and tow fitting weight (measured) $\\quad \\quad \\text{kg}$\n",
    "\n",
    "Ballast weight (calculated)\t $\\quad \\quad \\text{kg}$\n",
    "\n",
    "---\n",
    "\n",
    "Total displaced weight $\\quad 13.80 \\ \\text{kg}$"
   ]
  },
  {
   "cell_type": "markdown",
   "id": "dc1c3023-8e0f-41a5-86af-5903544fa0b9",
   "metadata": {},
   "source": [
    "### **Ship Data**\n",
    "Wetted surface area $\\quad \\quad \\ \\text{m}^2$\n",
    "\n",
    "Waterline length $\\quad 14.02 \\ \\text{m}$\n",
    "\n",
    "Total displaced weight $\\quad \\quad \\ \\text{kg}$"
   ]
  },
  {
   "cell_type": "markdown",
   "id": "598f347c-8e6d-45c5-b034-df5aa6b7045a",
   "metadata": {},
   "source": [
    "### **Fluid Data**\n",
    "Tank water temperature $\\quad \\quad \\ ^\\circ\\text{C}$\n",
    "\n",
    "Use standard values for fresh and seawater density."
   ]
  },
  {
   "cell_type": "markdown",
   "id": "68a31e37-692f-45d8-baa6-ca6de5b547be",
   "metadata": {},
   "source": [
    "### **Useful Data and Formulae**\n",
    "**Table 2**: Values of kinematic viscosity for fresh water at different temperatures\n",
    "(Note: values in table have been multiplied by$10^6$ .\n",
    "\n",
    "|Temperature ($^\\circ \\text{C}$)|Kinematic viscosity of fresh water, $\\nu$,($\\text{m}^2/\\text{s}$)|\n",
    "|-------------------------------|-----------------------------------------------------------------|\n",
    "|<center>$10$</center>|<center>$1.30641$</center>|\n",
    "|<center>$11$</center>|<center>$1.26988$</center>|\n",
    "|<center>$12$</center>|<center>$1.23495$</center>|\n",
    "|<center>$13$</center>|<center>$1.20159$</center>|\n",
    "|<center>$14$</center>|<center>$1.16964$</center>|\n",
    "|<center>$15$</center>|<center>$1.13902$</center>|\n",
    "|<center>$16$</center>|<center>$1.10966$</center>|\n",
    "|<center>$17$</center>|<center>$1.08155$</center>|\n",
    "|<center>$18$</center>|<center>$1.05456$</center>|\n",
    "|<center>$19$</center>|<center>$1.02865$</center>|\n",
    "|<center>$20$</center>|<center>$1.00374$</center>|\n",
    "\n",
    "Kinematic viscosity for salt water at 15$ \\ ^\\circ \\text{C}$: $\\ \\nu_{SW}=1.18831\\times 10^{-6}$\n",
    "\n",
    "Reynolds number, \n",
    "$$\n",
    "\\frac{VL}{\\nu}\n",
    "$$\n",
    "Froude Number,\n",
    "$$\n",
    "\\frac{V}{\\sqrt{gL}}\n",
    "$$\n",
    "Resistance coefficients,\n",
    "$$\n",
    "C_*=\\frac{R_*}{\\frac{1}{2}\\rho SV^2}\n",
    "$$\n",
    "Effective power,\n",
    "$$\n",
    "P_E=R_T V=\\frac{1}{2}\\rho SV^3 C_T \\ \\text{(W)}\n",
    "$$\n",
    "ITTC 57 correlation line;\n",
    "$$\n",
    "C_F=\\frac{0.075}{(\\log_{10}R_n -2)^2}\n",
    "$$\n"
   ]
  },
  {
   "cell_type": "markdown",
   "id": "0f15f41b-38eb-4d43-ab67-fbf3c5b1f507",
   "metadata": {},
   "source": [
    "### **Example Results**\n",
    "**Table 3: Model resistance results**\n",
    "\n",
    "|Model Speed $[\\text{m/s}]$|Model Resistance $[\\text{N}]$|\n",
    "|--------------------------|-----------------------------|\n",
    "|<center>$0.5$</center>|<center>$0.4348$</center>|\n",
    "|<center>$0.6$</center>|<center>$0.5652$</center>|\n",
    "|<center>$0.7$</center>|<center>$0.8261$</center>|\n",
    "|<center>$0.8$</center>|<center>$1.0217$</center>|\n",
    "|<center>$0.9$</center>|<center>$1.1826$</center>|\n",
    "|<center>$1$</center>|<center>$1.5652$</center>|\n",
    "|<center>$1.1$</center>|<center>$1.9782$</center>|\n",
    "|<center>$1.2$</center>|<center>$2.5435$</center>|\n",
    "|<center>$1.3$</center>|<center>$3.0896$</center>|\n",
    "|<center>$1.4$</center>|<center>$3.7608$</center>|\n",
    "|<center>$1.5$</center>|<center>$4.5652$</center>|\n",
    "|<center>$1.6$</center>|<center>$5.7608$</center>|\n",
    "|<center>$1.8$</center>|<center>$8.6956$</center>|\n",
    "|<center>$1.9$</center>|<center>$10.7608$</center>|\n",
    "\n",
    "![image.png](https://s2.loli.net/2023/09/13/9BlGyZxkoS3Er4V.png)\n",
    "\n",
    "Figure 1: Model Resistance against speed"
   ]
  }
 ],
 "metadata": {
  "kernelspec": {
   "display_name": "Python 3 (ipykernel)",
   "language": "python",
   "name": "python3"
  },
  "language_info": {
   "codemirror_mode": {
    "name": "ipython",
    "version": 3
   },
   "file_extension": ".py",
   "mimetype": "text/x-python",
   "name": "python",
   "nbconvert_exporter": "python",
   "pygments_lexer": "ipython3",
   "version": "3.11.4"
  }
 },
 "nbformat": 4,
 "nbformat_minor": 5
}

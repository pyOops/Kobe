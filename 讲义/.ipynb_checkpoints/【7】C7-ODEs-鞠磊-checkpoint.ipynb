{
 "cells": [
  {
   "cell_type": "markdown",
   "metadata": {},
   "source": [
    "# CHAPTER 3 - SOLVING ORDINARY DIFFERENTIAL EQUATIONS\n"
   ]
  },
  {
   "cell_type": "markdown",
   "metadata": {
    "toc": true
   },
   "source": [
    "<h1>Table of Contents<span class=\"tocSkip\"></span></h1>\n",
    "<div class=\"toc\"><ul class=\"toc-item\"><li><span><a href=\"#Linear-Differential-Equations\" data-toc-modified-id=\"Linear-Differential-Equations-1\"><span class=\"toc-item-num\">1&nbsp;&nbsp;</span>Linear Differential Equations</a></span></li><li><span><a href=\"#Higher-Order-Differential-Equations\" data-toc-modified-id=\"Higher-Order-Differential-Equations-2\"><span class=\"toc-item-num\">2&nbsp;&nbsp;</span>Higher Order Differential Equations</a></span><ul class=\"toc-item\"><li><span><a href=\"#State-Space-Representation\" data-toc-modified-id=\"State-Space-Representation-2.1\"><span class=\"toc-item-num\">2.1&nbsp;&nbsp;</span>State Space Representation</a></span></li><li><span><a href=\"#Solving-the-system-of-1st-order-ODEs\" data-toc-modified-id=\"Solving-the-system-of-1st-order-ODEs-2.2\"><span class=\"toc-item-num\">2.2&nbsp;&nbsp;</span>Solving the system of 1st order ODEs</a></span></li></ul></li><li><span><a href=\"#Exercise\" data-toc-modified-id=\"Exercise-3\"><span class=\"toc-item-num\">3&nbsp;&nbsp;</span>Exercise</a></span></li></ul></div>"
   ]
  },
  {
   "cell_type": "markdown",
   "metadata": {},
   "source": [
    "## 1 Definition of differential equations\n",
    "The equations contain the derivative （/dɪˈrɪvətɪv/）of y with respect to the independent variable x.\n",
    "\n",
    "$$\\frac{dy}{dx}=2x$$\n",
    "\n",
    "$$\\frac{dy}{dx}-\\frac{2y}{x+1}=(x+1）^{\\frac{5}{2}}$$\n",
    "\n",
    "$$\\frac{dy}{dx}+\\frac{y}{x}={\\frac{cosx}{x}}$$\n",
    "\n",
    "$$\\frac{dy}{dx}=(x+y）^2$$\n",
    "\n",
    "General form of differential equation\n",
    "\n",
    "$$F(x,y,y^{(1)},.....y^{(n)})=0$$"
   ]
  },
  {
   "cell_type": "markdown",
   "metadata": {},
   "source": [
    "## 1.1 ODE and PDE\n",
    "Differential equations can be clssified by: \n",
    "ordinary differential equation-ODE and partial differential equation-PDE.\n",
    "\n",
    "**ordinary differential equation-ODE:**\n",
    "\n",
    "\n",
    "$$\\frac{dy}{dx}=2x$$\n",
    "\n",
    "For a differential equation, there is only one independent variable, called ODE\n",
    "\n",
    "**partial differential equation-PDE:**\n",
    "\n",
    "\n",
    "$$\\frac{\\partial^2 u}{\\partial^2 x}+\\frac{\\partial^2 u}{\\partial^2 y}=0$$\n",
    "\n",
    "$$\\frac{\\partial u}{\\partial x}+\\frac{\\partial u}{\\partial y}=0$$\n",
    "\n",
    "For a differential equation, there are two or more independent variables, called PDE\n"
   ]
  },
  {
   "cell_type": "markdown",
   "metadata": {},
   "source": [
    "## 1.2 First order and high order\n",
    "\n",
    "Differential equations can be clssified by: \n",
    "first order differential equation and high-order differential equation.\n",
    "\n",
    "**First order differential equation：**\n",
    "\n",
    "The derivative of y with respect to the independent variable is first order\n",
    "\n",
    "\n",
    "$$\\frac{dy}{dx}=2x$$\n",
    "\n",
    "\n",
    "**high-order differential equation:**\n",
    "\n",
    "The derivative of y with respect to the independent variable is higher than first order. \n",
    " \n",
    "$$\\frac{\\partial^2 u}{\\partial^2 x}+\\frac{\\partial^2 u}{\\partial^2 y}=0$$\n"
   ]
  },
  {
   "cell_type": "markdown",
   "metadata": {},
   "source": [
    "## 1.3 Linear and nonlinear \n",
    "\n",
    "Differential equations can be clssified by: \n",
    "linear and nonlinear differential equation.\n",
    "\n",
    "\n",
    "**Linear differential equation:**\n",
    "- The coefficient before y and y’ cannot contain y\n",
    "\n",
    "- The equation can have y and y’, but not the fuction of y, such as $sin(y)$, $y^2$. \n",
    "\n",
    "$$x\\frac{dy}{dx}=2$$\n",
    "\n",
    "$$\\frac{dy}{dx}=sin(x)y$$\n",
    "\n",
    "$$\\frac{dy}{dx}=y$$\n",
    "\n",
    "**Nonlinear differential equation:**\n",
    "\n",
    "$$y\\frac{dy}{dx}=2$$\n",
    "\n",
    "$$\\frac{dy}{dx}=sin(y)y$$\n",
    "\n",
    "$$\\frac{dy}{dx}=y^2$$"
   ]
  },
  {
   "cell_type": "markdown",
   "metadata": {},
   "source": [
    "## 2 Linear Differential Equations"
   ]
  },
  {
   "cell_type": "markdown",
   "metadata": {},
   "source": [
    "In python we can use the [`odeint`](https://docs.scipy.org/doc/scipy-1.7.1/reference/generated/scipy.integrate.odeint.html) function to solve a first order differential equation numerically. The inputs are the function describing the differential equation, the starting/final time and the initial value. The output is the solution of the differential equation. For example, let’s solve this differential equation using analytical and numerical methods.\n",
    "\n",
    "$$ y + \\dot{y} = 1  $$\n",
    "\n",
    "where $\\dot{y}=\\frac{dy}{dt}$ \n",
    "\n",
    "1. First re-arrange the equation in terms of $\\dot{y}$:\n",
    "\n",
    "$$ \\dot{y} = 1 - y$$\n",
    "\n",
    "2. over the time period t = 0 to 10s.\n",
    "3. and has initial conditions $ y_{0} = 0 $ \n",
    "\n",
    "To use python to solve this ODE:\n",
    "\n",
    "Start by importing numpy, pyplot and `odeint` from scipy"
   ]
  },
  {
   "cell_type": "markdown",
   "metadata": {},
   "source": [
    "Let's start by looking at the help on the function **odeint**"
   ]
  },
  {
   "cell_type": "code",
   "execution_count": null,
   "metadata": {
    "is_executing": true,
    "scrolled": true
   },
   "outputs": [],
   "source": [
    "from scipy.integrate import odeint\n",
    "help(odeint)"
   ]
  },
  {
   "cell_type": "markdown",
   "metadata": {},
   "source": [
    "There is a lot of information in the help file. But what we are interested in is the input parameters and the output.\n",
    "\n",
    "**odeint(func, y0, t, args=(),.......**\n",
    "\n",
    "func : callable(y, t, ...)\n",
    "\n",
    " y0 : array\n",
    "        Initial condition on y (can be a vector).\n",
    "        \n",
    "  t : array\n",
    "        A sequence of time points for which to solve for y. The initial\n",
    "        value point should be the first element of this sequence.\n",
    "        This sequence must be monotonically increasing or monotonically\n",
    "        decreasing; repeated values are allowed.\n",
    "               \n",
    " Returns\n",
    "    y : array, shape (len(t), len(y0))\n",
    "        Array containing the value of y for each desired time in t,\n",
    "        with the initial value `y0` in the first row.\n",
    "\n",
    "Having looked at the help on the odeint solver. The first thing to do is to create a function which represents the 1st order differential equation $dy = 1-y$"
   ]
  },
  {
   "cell_type": "code",
   "execution_count": 7,
   "metadata": {
    "ExecuteTime": {
     "end_time": "2020-10-10T15:46:49.972432Z",
     "start_time": "2020-10-10T15:46:49.968450Z"
    }
   },
   "outputs": [
    {
     "name": "stdout",
     "output_type": "stream",
     "text": [
      "[[0.        ]\n",
      " [0.6358178 ]\n",
      " [0.86737135]\n",
      " [0.95169902]\n",
      " [0.98240964]\n",
      " [0.9935939 ]\n",
      " [0.99766702]\n",
      " [0.99915037]\n",
      " [0.99969058]\n",
      " [0.99988731]]\n",
      "The first ten values of y = \n",
      " [[0.        ]\n",
      " [0.09607608]\n",
      " [0.18292157]\n",
      " [0.26142329]\n",
      " [0.33238284]\n",
      " [0.39652489]\n",
      " [0.45450442]\n",
      " [0.50691351]\n",
      " [0.55428733]\n",
      " [0.59710964]]\n"
     ]
    }
   ],
   "source": [
    "import numpy as np  # importing the numpy package into the python kernel we are using\n",
    "import matplotlib.pyplot as plt  #importing pylab from matplotlib \n",
    "%matplotlib inline \n",
    "#This command will plot the figure \"inline\" with the text, use \"qt\" to plot in external window\n",
    "from scipy.integrate import odeint \n",
    "def myfun(y,t):\n",
    "    \"Function to return dy\"  # it is a good idea to add function descriptions to your own functions so you or others know what the function does\n",
    "    dy = 1 - y\n",
    "    return dy\n",
    "\n",
    "t = np.linspace(0,10,100)# The next step is to define the time range, in this case t = 0 to 10s in 0.1s steps.\n",
    "y = odeint(myfun,0,t) # 0 is the initial condition,y0=0 \n",
    "print(y[0:y.size:10])  #or print y every 10 values\n",
    "print('The first ten values of y = \\n',y[0:10]) "
   ]
  },
  {
   "cell_type": "markdown",
   "metadata": {},
   "source": [
    "Although our function is $dy = 1 - y$, the `odeint` functions returns values of $y$.\n",
    "\n",
    "Plot the result of the odeint function (y) against time (t). \n",
    "\n",
    "The analystical solution is $$y = 1 - e^{-t}$$\n",
    "\n",
    "Also plot the analytic solution against time. You can calculate $dy$ using the equation and plot this as well. Make sure you use a different line type to distinguish between the plots."
   ]
  },
  {
   "cell_type": "code",
   "execution_count": 64,
   "metadata": {
    "ExecuteTime": {
     "end_time": "2020-10-10T15:46:51.809202Z",
     "start_time": "2020-10-10T15:46:51.640315Z"
    }
   },
   "outputs": [
    {
     "data": {
      "image/png": "[encoded data removed]",
      "text/plain": [
       "<Figure size 720x360 with 1 Axes>"
      ]
     },
     "metadata": {
      "needs_background": "light"
     },
     "output_type": "display_data"
    }
   ],
   "source": [
    "ya = 1 - np.exp(-t) # analytic solution \n",
    "dy = 1-y;\n",
    "plt.figure(figsize=(10,5))\n",
    "plt.plot(t,y,'r-')\n",
    "plt.plot(t,ya,'k--')\n",
    "plt.plot(t,dy,'b:')\n",
    "\n",
    "plt.xlabel('Time [s]')\n",
    "plt.ylabel('$Y$')\n",
    "plt.legend(['y(Analytic)','y(odeint)','dy'])\n",
    "plt.grid('on')\n",
    "cap1='Figure 1: Response of Linear Differential Equation'\n",
    "plt.figtext(0.5, -0.04, cap1, wrap=True, horizontalalignment='center', fontsize=14) #\n",
    "plt.show()"
   ]
  },
  {
   "cell_type": "markdown",
   "metadata": {},
   "source": [
    "## 3 Higher Order Differential Equations\n",
    "\n",
    "Consider the following mass-spring-damper system:\n",
    "\n",
    "<img src=\"https://media.cheggcdn.com/media%2F782%2F782f05ca-31aa-4f90-9e04-d6f895aa4f10%2FphpImPTN8.png\" />\n",
    "\n",
    "\n",
    "**<center> Figure 2: Diagram of Simple Mass-Spring-Damper System </center>**\n",
    "\n",
    "    \n",
    "\n",
    "\n",
    "Newton's 2nd law gives us:\n",
    "\n",
    "$$m \\ddot{x} + b \\dot{x} + k x = f(t)$$\n",
    "\n",
    "This 2nd order differential equation, can be written as a set of 1st order differential equations. Having a set of 1st order differential equations allows the equations to be written in matrix form (state space) which is convenient for simulation using numerical methods such as `odeint`.\n",
    "\n",
    "### State Space Representation\n",
    "\n",
    "Start with the 2nd order ODE: $$m \\ddot{x} + b \\dot{x} + k x = f(t)$$\n",
    "\n",
    "Then rename the dependent variable $x$ and its 1st derivative as follows:\n",
    "\n",
    "$$x_1 (t) = x(t) $$\n",
    "\n",
    "$$x_2 (t) = \\dot{x} (t) = \\dot{x_1} (t) $$\n",
    "\n",
    "where $x_{1}$ is the position (displacement) of the mass in metres\n",
    "and $x_{2}$ is the derivative of $x_{1}$ or the velocity of the mass in metres per second.\n",
    "\n",
    "From this change of variables we get the first 1st order ODE:\n",
    "$$ \\dot{x_1} (t) = x_2 (t) $$\n",
    "\n",
    "If we then substitute this equation into the 2nd order ODE equation:\n",
    "\n",
    "$$ m \\dot{x_2} + b x_2 + k x_1 = f $$\n",
    "\n",
    "If we rearange for $\\dot{x_2}$ and divide through by $m$ this leads to our second 1st order ODE:\n",
    "\n",
    "$$ \\dot{x_2} = -\\frac{b}{m} x_2 - \\frac{k}{m} x_1 + \\frac{f}{m}  $$\n",
    "\n",
    "These two 1st order ODEs can be written in matrix form **$ \\dot{y} = A y + B f $**\n",
    "\n",
    "$$ \\begin{bmatrix} \\dot{x_1} \\\\ \\dot{x_2} \\end{bmatrix} =  \\begin{bmatrix} 0 & 1 \\\\ -k/m & -b/m  \\end{bmatrix} \\begin{bmatrix} x_1 \\\\ x_2 \\end{bmatrix} + \\begin{bmatrix} 0 \\\\ f/m \\end{bmatrix}$$\n",
    "\n",
    "If we multiply out this matrix we should get a trivial equation: \n",
    "\n",
    "$$ \\dot{x_1}  = 0 x_1 + 1 x_2 + 0 f$$\n",
    "\n",
    "and the equation we are interested in:\n",
    "\n",
    "$$ \\dot{x_2} = -\\frac{k}{m} x_1 - \\frac{b}{m} x_2 + \\frac{f}{m} $$\n",
    "\n",
    "**This is equivalent to create two 1st order ODEs**"
   ]
  },
  {
   "cell_type": "markdown",
   "metadata": {},
   "source": [
    "### Solving the system of 1st order ODEs\n",
    "\n",
    "To solve the matrix differential equation numerically use the `odeint` function. First you need to write a function to describe the differential equation and then obtain a numerical solution. \n",
    "\n",
    "Note: The commenting style used in this function reflects the standard you should aspire to in your own code. As you become more familiar with programming, we would expect you to state what the input types would be.\n",
    "\n",
    "To simplify the problem let us ignore the forcing function $f$ and consider the free vibration of a mass spring damper system:\n",
    "\n",
    "$$m \\ddot{x} + b \\dot{x} + k x = f(t)$$\n",
    "\n",
    "The second order ODE above can be written in state space form:\n",
    "\n",
    "$$ \\begin{bmatrix} \\dot{x_1} \\\\ \\dot{x_2} \\end{bmatrix} =  \\begin{bmatrix} 0 & 1 \\\\ -k/m & -b/m  \\end{bmatrix} \\begin{bmatrix} x_1 \\\\ x_2 \\end{bmatrix} $$"
   ]
  },
  {
   "cell_type": "code",
   "execution_count": 14,
   "metadata": {
    "ExecuteTime": {
     "end_time": "2020-10-10T17:55:13.280781Z",
     "start_time": "2020-10-10T17:55:13.275785Z"
    },
    "scrolled": true
   },
   "outputs": [],
   "source": [
    "from scipy.integrate import odeint\n",
    "def spring_mass_damper(x, t, k=15.2e3, b=1000, m=1237):\n",
    "    \"\"\"Calculating the differential of a spring-mass-damper system.\n",
    "    Function to calculate the differential of a spring-mass system.\n",
    "    Arguments:\n",
    "        x: Distance (m)  x=[x1,x2] x1=x x2=dx=dx1\n",
    "        t: Time (s)\n",
    "        k: Spring constant (N/m)\n",
    "        b: Damping Coefficient (Ns/m)\n",
    "        m: Mass (kg)\n",
    "    Returns:\n",
    "        dy: Differential\n",
    "    \"\"\"\n",
    "    A = np.array([[0,1],[-k/m, -b/m]])\n",
    "    dx = np.dot(A,x)\n",
    "    return dx\n",
    "# help(spring_mass_damper) # To display the help for your function\n",
    "\n",
    "# comparion with 1st order solution function\n",
    "# def myfun(y,t):\n",
    "#    \"Function to return dy\"  # it is a good idea to add function descriptions to your own functions so you or others know what the function does\n",
    "#    dy = 1 - y\n",
    "#    return dy"
   ]
  },
  {
   "cell_type": "markdown",
   "metadata": {},
   "source": [
    "Next create a time array **t** using the `np.linspace` function betweem 0 and 10 seconds with 100 intervals. Then use the `odeint` function calling your function **spring_mass** with initial conditions of displacement, $x=0m$ and velocity, $\\dot{x}=10m/s$ over the time range t."
   ]
  },
  {
   "cell_type": "code",
   "execution_count": 17,
   "metadata": {},
   "outputs": [
    {
     "name": "stdout",
     "output_type": "stream",
     "text": [
      "[[ 0.         10.        ]\n",
      " [ 0.94982105  8.62832663]\n",
      " [ 1.71200456  6.33624654]\n",
      " [ 2.21045847  3.46900495]\n",
      " [ 2.40647755  0.41329941]]\n"
     ]
    }
   ],
   "source": [
    "t = np.linspace(0,10,100)    \n",
    "dx = odeint(spring_mass_damper,[0,10], t) #(function_name, [array, initial value, x1=x=0, x2=dx=dx1=10], time)\n",
    "# 1st:y = odeint(myfun,0,t) \n",
    "# 0 is the initial condition,y0=0 \n",
    "#return array(x1,x2)\n",
    "print(dx[0:5,:] )\n",
    "#print(dx[0:dx.size:10])  #or print y every 10 values\n",
    "# Return the first 10 rows of both columns of dx. dx contains displacement x and velocity xdot, \n",
    "# you should be able to check the value match the initial conditions."
   ]
  },
  {
   "cell_type": "markdown",
   "metadata": {},
   "source": [
    "The result is a two dimensional array, where the first column is the displacement $x_1$, the second column is the velocity $x_2$.\n",
    "\n",
    "Now that we have determined $x$ and $\\dot{x}$ we can calculate $\\ddot{x}$ from our original equation of motion $m\\ddot{x} + b \\dot{x} + kx =0$. Rearranging for $\\ddot{x}$ gives:\n",
    "\n",
    "$$\\ddot{x}=-k\\frac{x}{m} - b\\frac{\\dot{x}}{m}$$"
   ]
  },
  {
   "cell_type": "code",
   "execution_count": 18,
   "metadata": {
    "ExecuteTime": {
     "end_time": "2020-10-10T17:55:19.575134Z",
     "start_time": "2020-10-10T17:55:19.571135Z"
    }
   },
   "outputs": [],
   "source": [
    "k=15.2e3\n",
    "m=1237\n",
    "b=1000\n",
    "xd=dx[:,1]\n",
    "x=dx[:,0]\n",
    "xdd=-k*x/m - b*xd/m"
   ]
  },
  {
   "cell_type": "markdown",
   "metadata": {},
   "source": [
    "And finally plot your solution.\n",
    "\n",
    "You can see the initial conditions, the displacement x starts at 0 and the velocity $\\dot{x}$ starts from 10."
   ]
  },
  {
   "cell_type": "code",
   "execution_count": 19,
   "metadata": {
    "ExecuteTime": {
     "end_time": "2020-10-10T17:55:22.367515Z",
     "start_time": "2020-10-10T17:55:22.179625Z"
    }
   },
   "outputs": [
    {
     "data": {
      "image/png": "[encoded data removed]",
      "text/plain": [
       "<Figure size 1080x720 with 1 Axes>"
      ]
     },
     "metadata": {
      "needs_background": "light"
     },
     "output_type": "display_data"
    }
   ],
   "source": [
    "plt.figure(figsize=(15,10))\n",
    "plt.plot(t,x,'k-',linewidth=3)\n",
    "plt.plot(t,xd,'r--',linewidth=3)\n",
    "plt.plot(t,xdd,'b:',linewidth=3)\n",
    "plt.xlabel('Time [s]',fontsize=16)\n",
    "plt.ylabel('System Response',fontsize=16)\n",
    "plt.legend(['$x$','$\\dot{x}$','$\\ddot{x}$'],fontsize=16)\n",
    "plt.grid('on')\n",
    "\n",
    "cap3='Figure 3: Response of Mass-Spring-Damper System'\n",
    "plt.figtext(0.5, 0.01, cap3, wrap=True, horizontalalignment='center', fontsize=18)\n",
    "plt.show()"
   ]
  },
  {
   "cell_type": "markdown",
   "metadata": {},
   "source": [
    "The natural frequency of the system $\\omega_n = \\sqrt{k/m}$\n",
    "\n",
    "and the damping ratio is $\\zeta = \\frac{b}{2\\sqrt{m^2 k/m}}$\n",
    "\n",
    "and finally the damped natural frequency is $\\omega_d = \\omega_n \\sqrt{1-\\zeta^2}$\n",
    "\n",
    "So we can calculate these values:"
   ]
  },
  {
   "cell_type": "code",
   "execution_count": 20,
   "metadata": {
    "ExecuteTime": {
     "end_time": "2020-10-10T17:55:26.765966Z",
     "start_time": "2020-10-10T17:55:26.759970Z"
    }
   },
   "outputs": [
    {
     "name": "stdout",
     "output_type": "stream",
     "text": [
      "wn =  3.505 \n",
      "\n",
      "z =  0.115 \n",
      "\n",
      "wd =  3.482 \n",
      "\n"
     ]
    }
   ],
   "source": [
    "wn = np.sqrt(k/m)\n",
    "\n",
    "z = b/(2*np.sqrt(m**2 * k/m))\n",
    "\n",
    "wd = wn*np.sqrt(1-z**2)\n",
    "\n",
    "print('wn = ',np.round(wn,3),'\\n')\n",
    "\n",
    "print('z = ',np.round(z,3),'\\n')\n",
    "\n",
    "print('wd = ',np.round(wd,3),'\\n')\n",
    "\n"
   ]
  },
  {
   "cell_type": "markdown",
   "metadata": {},
   "source": [
    "## 4 Exercise"
   ]
  },
  {
   "cell_type": "markdown",
   "metadata": {},
   "source": [
    "A useful function for determining the peaks (or troughs) in a signal is the scipy.signal `find_peaks` function. There are lots of parameters which can be configured for this function, so it is well worth looking at the help.\n",
    "\n",
    "Here is an example of how it can be used to analyse the peaks and troughs for the acceleration signal from the mass-spring-damper system."
   ]
  },
  {
   "cell_type": "code",
   "execution_count": 21,
   "metadata": {
    "scrolled": false
   },
   "outputs": [
    {
     "name": "stdout",
     "output_type": "stream",
     "text": [
      "index_peaks=  [12 30 48 66 84] \n",
      "\n",
      "index_troughs=  [ 3 21 39 57 75 93] \n",
      "\n"
     ]
    },
    {
     "data": {
      "image/png": "[encoded data removed]",
      "text/plain": [
       "<Figure size 720x360 with 1 Axes>"
      ]
     },
     "metadata": {
      "needs_background": "light"
     },
     "output_type": "display_data"
    }
   ],
   "source": [
    "from scipy.signal import find_peaks\n",
    "index_peaks = find_peaks(xdd)[0]     # index of positive value\n",
    "index_troughs = find_peaks(-xdd)[0]  # index of negative value\n",
    "\n",
    "print('index_peaks= ',index_peaks,'\\n')\n",
    "print('index_troughs= ',index_troughs,'\\n')\n",
    "\n",
    "plt.figure(figsize=(10,5))\n",
    "plt.plot(t,xdd,'k-')\n",
    "plt.plot(t[index_peaks],xdd[index_peaks],'r^',markersize=8)\n",
    "plt.plot(t[index_troughs],xdd[index_troughs],'gv',markersize=8)\n",
    "plt.xlabel('Time [s]')\n",
    "plt.ylabel('System Response')\n",
    "plt.legend(['$\\ddot{x}$','Peaks','Troughs'])\n",
    "plt.grid('on')\n",
    "plt.show()"
   ]
  },
  {
   "cell_type": "markdown",
   "metadata": {},
   "source": [
    "### Question 1\n",
    "\n",
    " Model the mass spring system with the following properties:\n",
    "   - mass m = 200\n",
    "   - spring stiffness k = 500\n",
    "   \n",
    "   1. Determine the equation of motion.\n",
    "   2. rewrite this in state space form using $x_1$ and $x_2$ .\n",
    "   3. Write a function for this equation of motion\n",
    "   4. Solve the equation of motion over the time interval t=0 to 20 seconds, with initial conditions $x_1= -0.01 m$ and  $x_2=  0 m/s$ .\n",
    "   5. Plot the displacement, velocity and acceleration against time.\n",
    "\n",
    "\n",
    "\n",
    "Determine th amplitude of the acceleration in $m/s^2$"
   ]
  },
  {
   "cell_type": "markdown",
   "metadata": {},
   "source": [
    "### QUESTION 2\n",
    "\n",
    "Model the same mass spring system with the addition of a damper with the following properties:\n",
    "\n",
    "- mass m = 200\n",
    "- spring stiffness k = 500\n",
    "- damping coefficient c = 50\n",
    "\n",
    "1. Determine the equation of motion.\n",
    "1. rewrite this in state space form using $x_1$ and $x_2$ .\n",
    "1. Write a function for this equation of motion\n",
    "1. Solve the equation of motion over the time interval t=0 to 20 seconds,, with initial conditions  $x_1= 0 m$ and  $x_2=  -0.5 m/s$ .\n",
    "1. Plot the displacement, velocity and acceleration against time.\n",
    "\n",
    "\n",
    "What is the ratio of the 3rd peak to the 1st peak in the velocity response (Peak 3/ Peak 1) rounded to 3 decimal places?"
   ]
  },
  {
   "cell_type": "markdown",
   "metadata": {},
   "source": [
    "### QUESTION 3\n",
    "\n",
    "Model the forced mass spring damper system the following properties:\n",
    "\n",
    "- mass m = 200\n",
    "- spring stiffness k = 500\n",
    "- damping coefficient c = 50\n",
    "- Force = A*cos(2π f t), where  A=1 N and frequency f = 0.24 Hz\n",
    "\n",
    "1. Determine the equation of motion.\n",
    "1. rewrite this in state space form using $x_1$ and $x_2$ .\n",
    "1.Write a function for this equation of motion\n",
    "1.Solve the equation of motion over the time interval t=0 to 60 seconds,, with initial conditions  $x_1= 0 m$ and  $x_2=  0 m/s$ .\n",
    "1.Plot the displacement, velocity and acceleration against time.\n",
    "\n",
    "What is the amplitude of the displacement once it has stabillized, give your answer rounded to 3 decimal places?"
   ]
  }
 ],
 "metadata": {
  "hide_input": false,
  "kernelspec": {
   "display_name": "Python 3 (ipykernel)",
   "language": "python",
   "name": "python3"
  },
  "language_info": {
   "codemirror_mode": {
    "name": "ipython",
    "version": 3
   },
   "file_extension": ".py",
   "mimetype": "text/x-python",
   "name": "python",
   "nbconvert_exporter": "python",
   "pygments_lexer": "ipython3",
   "version": "3.9.7"
  },
  "latex_envs": {
   "LaTeX_envs_menu_present": true,
   "autoclose": false,
   "autocomplete": true,
   "bibliofile": "biblio.bib",
   "cite_by": "apalike",
   "current_citInitial": 1,
   "eqLabelWithNumbers": true,
   "eqNumInitial": 1,
   "hotkeys": {
    "equation": "Ctrl-E",
    "itemize": "Ctrl-I"
   },
   "labels_anchors": false,
   "latex_user_defs": false,
   "report_style_numbering": false,
   "user_envs_cfg": false
  },
  "toc": {
   "base_numbering": 1,
   "nav_menu": {},
   "number_sections": true,
   "sideBar": true,
   "skip_h1_title": true,
   "title_cell": "Table of Contents",
   "title_sidebar": "Contents",
   "toc_cell": true,
   "toc_position": {},
   "toc_section_display": true,
   "toc_window_display": true
  },
  "varInspector": {
   "cols": {
    "lenName": 16,
    "lenType": 16,
    "lenVar": 40
   },
   "kernels_config": {
    "python": {
     "delete_cmd_postfix": "",
     "delete_cmd_prefix": "del ",
     "library": "var_list.py",
     "varRefreshCmd": "print(var_dic_list())"
    },
    "r": {
     "delete_cmd_postfix": ") ",
     "delete_cmd_prefix": "rm(",
     "library": "var_list.r",
     "varRefreshCmd": "cat(var_dic_list()) "
    }
   },
   "position": {
    "height": "312.996px",
    "left": "2131px",
    "right": "20px",
    "top": "326px",
    "width": "351px"
   },
   "types_to_exclude": [
    "module",
    "function",
    "builtin_function_or_method",
    "instance",
    "_Feature"
   ],
   "window_display": true
  }
 },
 "nbformat": 4,
 "nbformat_minor": 4
}

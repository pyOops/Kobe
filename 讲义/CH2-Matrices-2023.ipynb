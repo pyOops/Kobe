{
 "cells": [
  {
   "cell_type": "markdown",
   "metadata": {
    "id": "1pB3Xl0ifgx8"
   },
   "source": [
    "# CHAPTER 2 - Numerical Python (NumPy)"
   ]
  },
  {
   "cell_type": "markdown",
   "metadata": {
    "id": "-1QX6U2dfgyA",
    "toc": true
   },
   "source": [
    "<h1>Table of Contents<span class=\"tocSkip\"></span></h1>\n",
    "<div class=\"toc\"><ul class=\"toc-item\"><li><span><a href=\"#NumPy-Arrays\" data-toc-modified-id=\"NumPy-Arrays-1\"><span class=\"toc-item-num\">1&nbsp;&nbsp;</span>NumPy Arrays</a></span></li><li><span><a href=\"#Matrices-in-Excel\" data-toc-modified-id=\"Matrices-in-Excel-2\"><span class=\"toc-item-num\">2&nbsp;&nbsp;</span>Matrices in Excel</a></span></li><li><span><a href=\"#Matrices-in-Python\" data-toc-modified-id=\"Matrices-in-Python-3\"><span class=\"toc-item-num\">3&nbsp;&nbsp;</span>Matrices in Python</a></span><ul class=\"toc-item\"><li><span><a href=\"#Vectors-(1D-Arrays)\" data-toc-modified-id=\"Vectors-(1D-Arrays)-3.1\"><span class=\"toc-item-num\">3.1&nbsp;&nbsp;</span>Vectors (1D Arrays)</a></span></li><li><span><a href=\"#Basic-array-maths\" data-toc-modified-id=\"Basic-array-maths-3.2\"><span class=\"toc-item-num\">3.2&nbsp;&nbsp;</span>Basic array maths</a></span></li><li><span><a href=\"#Matrices-(2D-arrays)\" data-toc-modified-id=\"Matrices-(2D-arrays)-3.3\"><span class=\"toc-item-num\">3.3&nbsp;&nbsp;</span>Matrices (2D arrays)</a></span></li><li><span><a href=\"#Basic-array-addressing:\" data-toc-modified-id=\"Basic-array-addressing:-3.4\"><span class=\"toc-item-num\">3.4&nbsp;&nbsp;</span>Basic array addressing:</a></span></li><li><span><a href=\"#Matrix-Maths\" data-toc-modified-id=\"Matrix-Maths-3.5\"><span class=\"toc-item-num\">3.5&nbsp;&nbsp;</span>Matrix Maths</a></span><ul class=\"toc-item\"><li><span><a href=\"#Translations\" data-toc-modified-id=\"Translations-3.5.1\"><span class=\"toc-item-num\">3.5.1&nbsp;&nbsp;</span>Translations</a></span></li><li><span><a href=\"#Rotations\" data-toc-modified-id=\"Rotations-3.5.2\"><span class=\"toc-item-num\">3.5.2&nbsp;&nbsp;</span>Rotations</a></span></li></ul></li></ul></li><li><span><a href=\"#Solving-Systems-of-Linear-Equations\" data-toc-modified-id=\"Solving-Systems-of-Linear-Equations-4\"><span class=\"toc-item-num\">4&nbsp;&nbsp;</span>Solving Systems of Linear Equations</a></span><ul class=\"toc-item\"><li><span><a href=\"#Linear-regression-using-lstsq\" data-toc-modified-id=\"Linear-regression-using-lstsq-4.1\"><span class=\"toc-item-num\">4.1&nbsp;&nbsp;</span>Linear regression using <code>lstsq</code></a></span></li></ul></li><li><span><a href=\"#Statistics\" data-toc-modified-id=\"Statistics-5\"><span class=\"toc-item-num\">5&nbsp;&nbsp;</span>Statistics</a></span></li></ul></div>"
   ]
  },
  {
   "cell_type": "markdown",
   "metadata": {
    "id": "HQsq-SCxfgyB"
   },
   "source": [
    " ## 1 NumPy Arrays\n",
    "\n",
    "You will have covered matrices in your math module last year, but if you need a reminder look at this [HELM Workbook](https://www.lboro.ac.uk/media/media/schoolanddepartments/mlsc/downloads/HELM%20Workbook%207%20Matrices.pdf). You should have briefly covered numpy arrays in Design and Computing last year. \n",
    "\n",
    "**Core python does not includes arrays, which means that you need to use the `NumPy` module.** Arrays are very similar to lists, but unlike lists, arrays can only contain variables of a single datatype. This is one of the reasons why array maths is so much more efficient than using lists.\n",
    "\n",
    "An array is a data structure which contains a group of elements. In the code cell below, both a list and an array are created.\n",
    "1. You should be able to see that the list contains three integers and a float, whereas the array is all floats.\n",
    "3. All the elements of an array are of the same datatype, eg integers,floats.  \n",
    "2.  You can change the dtype for the array and it will change all the elements, for example what happens if you set `dtype=complex`.\n"
   ]
  },
  {
   "cell_type": "code",
   "execution_count": 36,
   "metadata": {
    "ExecuteTime": {
     "end_time": "2023-09-16T04:33:29.648078200Z",
     "start_time": "2023-09-16T04:33:29.284888100Z"
    },
    "scrolled": true
   },
   "outputs": [
    {
     "name": "stdout",
     "output_type": "stream",
     "text": [
      "<class 'list'>\n",
      " [1, 2, 3.0, 4]\n"
     ]
    }
   ],
   "source": [
    "import numpy as np\n",
    "a_list = [1,2,3.0,4]\n",
    "a_array=np.array([1.0,2.0,3.0,4.0], dtype=float, ndmin=1) #ndmin specified the dimensions of array\n",
    "print(type(a_list))\n",
    "print('', a_list)"
   ]
  },
  {
   "cell_type": "code",
   "execution_count": 37,
   "metadata": {
    "ExecuteTime": {
     "end_time": "2023-09-16T04:33:29.648078200Z",
     "start_time": "2023-09-16T04:33:29.300516800Z"
    },
    "scrolled": true
   },
   "outputs": [
    {
     "name": "stdout",
     "output_type": "stream",
     "text": [
      "<class 'numpy.ndarray'>\n",
      "[1. 2. 3. 4.]\n"
     ]
    }
   ],
   "source": [
    "print(type(a_array))\n",
    "print(a_array)"
   ]
  },
  {
   "cell_type": "code",
   "execution_count": 38,
   "metadata": {
    "ExecuteTime": {
     "end_time": "2023-09-16T04:33:29.648078200Z",
     "start_time": "2023-09-16T04:33:29.300516800Z"
    },
    "scrolled": true
   },
   "outputs": [
    {
     "name": "stdout",
     "output_type": "stream",
     "text": [
      "<class 'int'>     <class 'numpy.float64'>\n",
      "<class 'int'>     <class 'numpy.float64'>\n",
      "<class 'float'>     <class 'numpy.float64'>\n",
      "<class 'int'>     <class 'numpy.float64'>\n"
     ]
    }
   ],
   "source": [
    "for n in range(len(a_list)):\n",
    "    print(type(a_list[n]),'   ',type(a_array[n]))"
   ]
  },
  {
   "cell_type": "markdown",
   "metadata": {},
   "source": [
    "Matrix operations are very powerful in computing from transforming coordinates to solving systems of equations. \n",
    "\n",
    "A brief reminder of the indexing of matrices:\n",
    "\n",
    "$$A_{m,n} = \n",
    "\\begin{pmatrix}\n",
    "a_{1,1} & a_{1,2} & \\cdots & a_{1,n} \\\\\n",
    "a_{2,1} & a_{2,2} & \\cdots & a_{2,n} \\\\\n",
    "\\vdots  & \\vdots  & \\ddots & \\vdots  \\\\\n",
    "a_{m,1} & a_{m,2} & \\cdots & a_{m,n} \n",
    "\\end{pmatrix}$$\n",
    "\n",
    "**but remember that python uses zero indexing, so this should be as follows:**\n",
    "\n",
    "$$A_{m,n} = \n",
    "\\begin{pmatrix}\n",
    "a_{0,0} & a_{0,1} & \\cdots & a_{0,n-1} \\\\\n",
    "a_{1,0} & a_{1,1} & \\cdots & a_{1,n-1} \\\\\n",
    "\\vdots  & \\vdots  & \\ddots & \\vdots  \\\\\n",
    "a_{m-1,0} & a_{m-1,1} & \\cdots & a_{m-1,n-1} \n",
    "\\end{pmatrix}$$"
   ]
  },
  {
   "cell_type": "markdown",
   "metadata": {
    "id": "lgDa2OpnfgyN"
   },
   "source": [
    "# A quick speed test\n",
    "\n",
    "So why do we want to use arrays? It seems to be a lot more complicated than using lists. The main reason is that array maths is significantly more computationally efficient. This example shows the advantage in terms of calculation time of **using arrays compared with for-loops and lists**. You should have seen something similar to this in your lectures/ labs last year. I ran this on my computer with `M = 10,000,000` and the longest calculation takes about 3.5s.\n",
    "1. so be careful if you increase the value of M, you may have to press the stop button to interrupt the kernel. \n",
    "1. Use the magic command `%time` to measure the run time for each calculation. "
   ]
  },
  {
   "cell_type": "code",
   "execution_count": 39,
   "metadata": {
    "ExecuteTime": {
     "end_time": "2023-09-16T04:33:32.398924600Z",
     "start_time": "2023-09-16T04:33:29.300516800Z"
    },
    "colab": {
     "base_uri": "https://localhost:8080/"
    },
    "executionInfo": {
     "elapsed": 7629,
     "status": "ok",
     "timestamp": 1632770029647,
     "user": {
      "displayName": "Dominic Taunton",
      "photoUrl": "https://lh3.googleusercontent.com/a-/AOh14Gi_Yf8FdeF7tcuNjcv_HStq585OLQyw81WwWe6XQw=s64",
      "userId": "05563124449967144667"
     },
     "user_tz": -60
    },
    "id": "xBXaOmLlfgyN",
    "outputId": "492f6dcc-0d2a-4691-c98a-837db49a5c1f"
   },
   "outputs": [
    {
     "name": "stdout",
     "output_type": "stream",
     "text": [
      "M = 10000000\n",
      "\n",
      " Time forloop1:\n",
      "CPU times: user 754 ms, sys: 507 µs, total: 755 ms\n",
      "Wall time: 753 ms\n",
      "\n",
      " Time forloop2: \n",
      "CPU times: user 1.15 s, sys: 181 ms, total: 1.33 s\n",
      "Wall time: 1.33 s\n",
      "\n",
      " Time listcomp: \n",
      "CPU times: user 759 ms, sys: 179 ms, total: 939 ms\n",
      "Wall time: 938 ms\n",
      "\n",
      " Time numpy_: \n",
      "\n",
      "CPU times: user 21.7 ms, sys: 18.2 ms, total: 39.9 ms\n",
      "Wall time: 39.7 ms\n"
     ]
    },
    {
     "data": {
      "text/plain": [
       "3.3333328333333443e+20"
      ]
     },
     "execution_count": 39,
     "metadata": {},
     "output_type": "execute_result"
    }
   ],
   "source": [
    "import numpy as np\n",
    "M = 10000000\n",
    "\n",
    "#For loop using a cumulative sum\n",
    "def forloop1 (M):\n",
    "    s = 0\n",
    "    for i in range(M):    \n",
    "#       print(i)   #i=0....M-1\n",
    "        s += float(i) * float(i)\n",
    "    return s\n",
    "\n",
    "#For loop using python math functions\n",
    "def forloop2 (M):\n",
    "    y = [0] * M    #define a 1 by M zero array\n",
    "    for i in range(M):\n",
    "        y[i] = float(i)**2\n",
    "    return sum(y)\n",
    "    \n",
    "# maths operation on lists    \n",
    "def listcomp (M):\n",
    "    return sum ([float(x) * x for x in range (M)])\n",
    "    \n",
    "# numpy array maths    \n",
    "def numpy_(M):\n",
    "    return np.sum(np.arange(0, M, dtype ='d')**2)\n",
    "\n",
    "print(\"M =\", M)\n",
    "print(\"\\n Time forloop1:\")\n",
    "%time forloop1 (M)\n",
    "print(\"\\n Time forloop2: \\n\")\n",
    "%time forloop2 (M)\n",
    "print(\"\\n Time listcomp: \\n\")\n",
    "%time listcomp (M)\n",
    "print(\"\\n Time numpy_: \\n\")\n",
    "%time numpy_ (M)"
   ]
  },
  {
   "cell_type": "code",
   "execution_count": 40,
   "metadata": {
    "ExecuteTime": {
     "end_time": "2023-09-16T04:33:32.398924600Z",
     "start_time": "2023-09-16T04:33:32.385520900Z"
    }
   },
   "outputs": [
    {
     "name": "stdout",
     "output_type": "stream",
     "text": [
      "[0 1 2 3 4 5 6]\n",
      "[ 7  8  9 10]\n",
      "[7. 9.]\n",
      "[ 0.  1.  4.  9. 16. 25. 36.]\n",
      "5\n"
     ]
    }
   ],
   "source": [
    "import numpy as np\n",
    "print (np.arange (7))\n",
    "print (np.arange (7,11))\n",
    "print (np.arange (7,11,2, dtype=\"d\"))\n",
    "print (np.arange (7, dtype=\"d\")**2)\n",
    "print (np.sum(np.arange (3)**2))"
   ]
  },
  {
   "cell_type": "markdown",
   "metadata": {
    "id": "x5XNWL-UfgyB"
   },
   "source": [
    "## 2 Matrices in Excel"
   ]
  },
  {
   "cell_type": "markdown",
   "metadata": {
    "id": "sO6DIO09fgyC"
   },
   "source": [
    "Download the excel work book **Matrix Maths in Excel.xlsx** from chaoxing.\n",
    "\n",
    "You should see how to use relative and absolute cell references in excel and how to use the following two functions:\n",
    "\n",
    "    - mmult\n",
    "    - minverse"
   ]
  },
  {
   "cell_type": "markdown",
   "metadata": {
    "id": "DNMRFxHSfgyC"
   },
   "source": [
    "## 3  Matrices in Python"
   ]
  },
  {
   "cell_type": "code",
   "execution_count": 41,
   "metadata": {
    "ExecuteTime": {
     "end_time": "2023-09-16T04:33:32.398924600Z",
     "start_time": "2023-09-16T04:33:32.385520900Z"
    },
    "executionInfo": {
     "elapsed": 358,
     "status": "ok",
     "timestamp": 1632770014989,
     "user": {
      "displayName": "Dominic Taunton",
      "photoUrl": "https://lh3.googleusercontent.com/a-/AOh14Gi_Yf8FdeF7tcuNjcv_HStq585OLQyw81WwWe6XQw=s64",
      "userId": "05563124449967144667"
     },
     "user_tz": -60
    },
    "id": "XSMOQPPgfgyC"
   },
   "outputs": [],
   "source": [
    "import numpy as np  # importing the numpy package into the python kernel we are using\n",
    "import matplotlib.pyplot as plt  #importing pyplot from matplotlib \n",
    "%matplotlib inline\n",
    "#This command will plot the figure \"inline\" with the text, use \"qt\" to plot in external window\n",
    "# External windows allow you to manipulate the figure"
   ]
  },
  {
   "cell_type": "markdown",
   "metadata": {
    "id": "nTsenuplfgyD"
   },
   "source": [
    "### Vectors (1D Arrays) \n",
    "\n",
    "Below are some methods for creating 1D arrays using various Numpy functions. **\\n is a newline character.**"
   ]
  },
  {
   "cell_type": "code",
   "execution_count": 42,
   "metadata": {
    "ExecuteTime": {
     "end_time": "2023-09-16T04:33:32.398924600Z",
     "start_time": "2023-09-16T04:33:32.386601Z"
    },
    "colab": {
     "base_uri": "https://localhost:8080/"
    },
    "executionInfo": {
     "elapsed": 223,
     "status": "ok",
     "timestamp": 1632770015565,
     "user": {
      "displayName": "Dominic Taunton",
      "photoUrl": "https://lh3.googleusercontent.com/a-/AOh14Gi_Yf8FdeF7tcuNjcv_HStq585OLQyw81WwWe6XQw=s64",
      "userId": "05563124449967144667"
     },
     "user_tz": -60
    },
    "id": "ljHAZ8DLfgyE",
    "outputId": "7ef76cb4-bc4f-437b-8243-632640dd9798",
    "scrolled": true,
    "tags": []
   },
   "outputs": [
    {
     "name": "stdout",
     "output_type": "stream",
     "text": [
      "a= [0 1 2 3 4] \n",
      "\n",
      "b= [0 1 2 3 4 5 6 7 8 9] \n",
      "\n",
      "c= [0. 0. 0. 0. 0.] \n",
      "\n",
      "d= [1. 1. 1. 1. 1.] \n",
      "\n",
      "e= [0.80866012 0.23925997 0.82699644 0.5751122  0.71638851] \n"
     ]
    }
   ],
   "source": [
    "a = np.array([0,1,2,3,4]) # creates an array from a list [0 1 2 3 4]\n",
    "b = np.arange(0,10,1) # creates an array using the array RANGE function from 0 to 9\n",
    "c = np.zeros(5) # creates a 5 element array of zeros\n",
    "d = np.ones(5) # creates a 5 element array of ones\n",
    "e = np.random.rand(5) # creates a 5 element array of random number between 0 and 1\n",
    "print('a=',a,'\\n')\n",
    "print('b=',b,'\\n')\n",
    "print('c=',c,'\\n')\n",
    "print('d=',d,'\\n')\n",
    "print('e=',e,'\\n')\n",
    "# Looking at the output below, you should see that all off the 1D arrays are row vectors 行向量（单行矩阵）."
   ]
  },
  {
   "cell_type": "markdown",
   "metadata": {
    "id": "ZAUHhuHkfgyF"
   },
   "source": [
    "So what if you want to create a column vector. You could transpose the [1,N] array into a [N,1] array."
   ]
  },
  {
   "cell_type": "code",
   "execution_count": 43,
   "metadata": {
    "ExecuteTime": {
     "end_time": "2023-09-16T04:33:32.398924600Z",
     "start_time": "2023-09-16T04:33:32.386601Z"
    },
    "colab": {
     "base_uri": "https://localhost:8080/"
    },
    "executionInfo": {
     "elapsed": 214,
     "status": "ok",
     "timestamp": 1632770015567,
     "user": {
      "displayName": "Dominic Taunton",
      "photoUrl": "https://lh3.googleusercontent.com/a-/AOh14Gi_Yf8FdeF7tcuNjcv_HStq585OLQyw81WwWe6XQw=s64",
      "userId": "05563124449967144667"
     },
     "user_tz": -60
    },
    "id": "22Ru_4nxfgyF",
    "outputId": "e4512826-f47a-41a8-9a82-2fe4b70b8fbd"
   },
   "outputs": [
    {
     "name": "stdout",
     "output_type": "stream",
     "text": [
      "f= [0 1 2 3 4] \n",
      "\n",
      "g= [0 1 2 3 4] \n"
     ]
    },
    {
     "data": {
      "text/plain": [
       "(5,)"
      ]
     },
     "execution_count": 43,
     "metadata": {},
     "output_type": "execute_result"
    }
   ],
   "source": [
    "f = a.T\n",
    "g = np.transpose(a)\n",
    "print('f=',f,'\\n')\n",
    "print('g=',g,'\\n')\n",
    "f.shape"
   ]
  },
  {
   "cell_type": "markdown",
   "metadata": {
    "id": "qXl-svY0fgyF"
   },
   "source": [
    "You will notice that this has not worked and the array is still a row vector.\n",
    "\n",
    "In order to create a column vector（列向量） you will first need to create a multi-demensional array by putting the list inside another pair of square brackets or using the `ndmin=2` option when you create the array.\n",
    "Please notice the difference between 1D Arrays and 2D Arrays."
   ]
  },
  {
   "cell_type": "code",
   "execution_count": 44,
   "metadata": {
    "ExecuteTime": {
     "end_time": "2023-09-16T04:33:32.580559500Z",
     "start_time": "2023-09-16T04:33:32.386601Z"
    },
    "colab": {
     "base_uri": "https://localhost:8080/"
    },
    "executionInfo": {
     "elapsed": 197,
     "status": "ok",
     "timestamp": 1632770015569,
     "user": {
      "displayName": "Dominic Taunton",
      "photoUrl": "https://lh3.googleusercontent.com/a-/AOh14Gi_Yf8FdeF7tcuNjcv_HStq585OLQyw81WwWe6XQw=s64",
      "userId": "05563124449967144667"
     },
     "user_tz": -60
    },
    "id": "uj66L2yUfgyG",
    "outputId": "82596a75-db83-4e88-d4f5-4c5d5cc464c7"
   },
   "outputs": [
    {
     "name": "stdout",
     "output_type": "stream",
     "text": [
      "k= [0 1 2 3 4] \n",
      "\n",
      "h= [[0 1 2 3 4]] \n",
      "\n",
      "j= [[0 1 2 3 4]] \n",
      "\n",
      "(5,)\n",
      "(1, 5)\n",
      "(1, 5)\n"
     ]
    }
   ],
   "source": [
    "k = np.array([0,1,2,3,4]) # 1D\n",
    "h = np.array([[0,1,2,3,4]]) # 2D\n",
    "j = np.array([0,1,2,3,4],ndmin=2) # 2D\n",
    "print('k=',k,'\\n')\n",
    "print('h=',h,'\\n')\n",
    "print('j=',j,'\\n')\n",
    "print(k.shape)\n",
    "print(h.shape)\n",
    "print(j.shape)"
   ]
  },
  {
   "cell_type": "code",
   "execution_count": 45,
   "metadata": {
    "ExecuteTime": {
     "end_time": "2023-09-16T04:33:32.661915600Z",
     "start_time": "2023-09-16T04:33:32.392312Z"
    },
    "colab": {
     "base_uri": "https://localhost:8080/"
    },
    "executionInfo": {
     "elapsed": 180,
     "status": "ok",
     "timestamp": 1632770015571,
     "user": {
      "displayName": "Dominic Taunton",
      "photoUrl": "https://lh3.googleusercontent.com/a-/AOh14Gi_Yf8FdeF7tcuNjcv_HStq585OLQyw81WwWe6XQw=s64",
      "userId": "05563124449967144667"
     },
     "user_tz": -60
    },
    "id": "m4LIeNzcfgyG",
    "outputId": "69ee7d9e-d8ea-487b-b5a9-f92edce2d0dd",
    "scrolled": true
   },
   "outputs": [
    {
     "name": "stdout",
     "output_type": "stream",
     "text": [
      "transpose of h =  [[0]\n",
      " [1]\n",
      " [2]\n",
      " [3]\n",
      " [4]] \n"
     ]
    },
    {
     "data": {
      "text/plain": [
       "(5, 1)"
      ]
     },
     "execution_count": 45,
     "metadata": {},
     "output_type": "execute_result"
    }
   ],
   "source": [
    "# Now the row vector can be transposed to create column vector\n",
    "print('transpose of h = ', h.T, '\\n')\n",
    "h.T.shape"
   ]
  },
  {
   "cell_type": "code",
   "execution_count": 46,
   "metadata": {
    "ExecuteTime": {
     "end_time": "2023-09-16T04:33:32.661915600Z",
     "start_time": "2023-09-16T04:33:32.424756900Z"
    }
   },
   "outputs": [
    {
     "name": "stdout",
     "output_type": "stream",
     "text": [
      "transpose of j =  [[0]\n",
      " [1]\n",
      " [2]\n",
      " [3]\n",
      " [4]] \n"
     ]
    },
    {
     "data": {
      "text/plain": [
       "(5, 1)"
      ]
     },
     "execution_count": 46,
     "metadata": {},
     "output_type": "execute_result"
    }
   ],
   "source": [
    "print('transpose of j = ', j.T, '\\n')\n",
    "j.T.shape"
   ]
  },
  {
   "cell_type": "markdown",
   "metadata": {
    "id": "iXr9y4p_fgyG"
   },
   "source": [
    "### Basic array maths\n",
    "It is possible to perform basic calculations on arrays. For example add 3 to all elements of an array:"
   ]
  },
  {
   "cell_type": "code",
   "execution_count": 47,
   "metadata": {
    "ExecuteTime": {
     "end_time": "2023-09-16T04:33:32.661915600Z",
     "start_time": "2023-09-16T04:33:32.424756900Z"
    },
    "colab": {
     "base_uri": "https://localhost:8080/"
    },
    "executionInfo": {
     "elapsed": 162,
     "status": "ok",
     "timestamp": 1632770015573,
     "user": {
      "displayName": "Dominic Taunton",
      "photoUrl": "https://lh3.googleusercontent.com/a-/AOh14Gi_Yf8FdeF7tcuNjcv_HStq585OLQyw81WwWe6XQw=s64",
      "userId": "05563124449967144667"
     },
     "user_tz": -60
    },
    "id": "oRECA5BifgyH",
    "outputId": "8141c29b-14bf-411b-ae3a-13c132eb64e5"
   },
   "outputs": [
    {
     "name": "stdout",
     "output_type": "stream",
     "text": [
      "[3 4 5 6 7]\n"
     ]
    }
   ],
   "source": [
    "import numpy as np \n",
    "a = np.array([0,1,2,3,4])\n",
    "k = a + 3\n",
    "print(k)"
   ]
  },
  {
   "cell_type": "markdown",
   "metadata": {},
   "source": [
    "Multiply all elements of an array by 2.5"
   ]
  },
  {
   "cell_type": "code",
   "execution_count": 48,
   "metadata": {
    "ExecuteTime": {
     "end_time": "2023-09-16T04:33:32.661915600Z",
     "start_time": "2023-09-16T04:33:32.424756900Z"
    }
   },
   "outputs": [
    {
     "name": "stdout",
     "output_type": "stream",
     "text": [
      "[ 0.   2.5  5.   7.5 10. ]\n"
     ]
    }
   ],
   "source": [
    "l = a*2.5\n",
    "print(l)"
   ]
  },
  {
   "cell_type": "markdown",
   "metadata": {
    "id": "kERE3NCgfgyH"
   },
   "source": [
    "Square all the values of an array:"
   ]
  },
  {
   "cell_type": "code",
   "execution_count": 49,
   "metadata": {
    "ExecuteTime": {
     "end_time": "2023-09-16T04:33:32.661915600Z",
     "start_time": "2023-09-16T04:33:32.424756900Z"
    },
    "colab": {
     "base_uri": "https://localhost:8080/"
    },
    "executionInfo": {
     "elapsed": 145,
     "status": "ok",
     "timestamp": 1632770015575,
     "user": {
      "displayName": "Dominic Taunton",
      "photoUrl": "https://lh3.googleusercontent.com/a-/AOh14Gi_Yf8FdeF7tcuNjcv_HStq585OLQyw81WwWe6XQw=s64",
      "userId": "05563124449967144667"
     },
     "user_tz": -60
    },
    "id": "0zLPUd4rfgyH",
    "outputId": "e8f6ff52-8e17-402b-eff8-fac2144e7d9a"
   },
   "outputs": [
    {
     "name": "stdout",
     "output_type": "stream",
     "text": [
      "[ 0  1  4  9 16 25 36 49 64 81]\n"
     ]
    }
   ],
   "source": [
    "b = np.arange(0,10,1) \n",
    "m = b**2\n",
    "print(m)"
   ]
  },
  {
   "cell_type": "markdown",
   "metadata": {
    "id": "8T_it5XkfgyH"
   },
   "source": [
    "Divide one array by another array of the same size: $ c = b/a $ "
   ]
  },
  {
   "cell_type": "code",
   "execution_count": 50,
   "metadata": {
    "ExecuteTime": {
     "end_time": "2023-09-16T04:33:32.661915600Z",
     "start_time": "2023-09-16T04:33:32.432632100Z"
    },
    "colab": {
     "base_uri": "https://localhost:8080/"
    },
    "executionInfo": {
     "elapsed": 129,
     "status": "ok",
     "timestamp": 1632770015576,
     "user": {
      "displayName": "Dominic Taunton",
      "photoUrl": "https://lh3.googleusercontent.com/a-/AOh14Gi_Yf8FdeF7tcuNjcv_HStq585OLQyw81WwWe6XQw=s64",
      "userId": "05563124449967144667"
     },
     "user_tz": -60
    },
    "id": "krx2g8sTfgyI",
    "outputId": "e9ee660f-3de9-43ea-e87e-949ac53bcfc6"
   },
   "outputs": [
    {
     "name": "stdout",
     "output_type": "stream",
     "text": [
      "[10.    5.5   4.    3.25  2.8 ]\n"
     ]
    }
   ],
   "source": [
    "a = np.array([1, 2, 3, 4, 5])\n",
    "b = np.array([10, 11, 12, 13, 14])\n",
    "c = b/a\n",
    "print(c)"
   ]
  },
  {
   "cell_type": "markdown",
   "metadata": {},
   "source": [
    "There are also a number of built in operations such as transpose, matrix multiplication and vector products."
   ]
  },
  {
   "cell_type": "code",
   "execution_count": 51,
   "metadata": {
    "ExecuteTime": {
     "end_time": "2023-09-16T04:33:32.691495600Z",
     "start_time": "2023-09-16T04:33:32.432632100Z"
    }
   },
   "outputs": [
    {
     "name": "stdout",
     "output_type": "stream",
     "text": [
      "A =  [[1 2]\n",
      " [3 4]\n",
      " [5 6]] \n",
      "\n",
      "a =  [1 2 3] \n",
      "\n",
      "b =  [4 5 6] \n",
      "\n",
      "Transpose A =  [[1 3 5]\n",
      " [2 4 6]] \n",
      "\n",
      "A.T @ a = [[22 28]] \n",
      "\n",
      "Inner product of a and b = 32 \n",
      "\n",
      "dot product of a and b = 32 \n",
      "\n",
      "cross product of a and b = [-3  6 -3] \n"
     ]
    }
   ],
   "source": [
    "A = np.matrix([[1,2],[3,4],[5,6]])\n",
    "a = np.array([1,2,3])\n",
    "b = np.array([4,5,6])\n",
    "print('A = ',A,'\\n')               # matrix \n",
    "print('a = ',a,'\\n')               # matrix \n",
    "print('b = ',b,'\\n')               # matrix \n",
    "\n",
    "print('Transpose A = ',A.T,'\\n')             # transpose\n",
    "print('A.T @ a =',A.T @ a,'\\n')         # matrix multiplication  m *n @ 1*n=1*m https://blog.csdn.net/qq_46126258/article/details/107837659\n",
    "print('Inner product of a and b =',np.inner(a,b),'\\n')   # inner product\n",
    "print('dot product of a and b =',np.dot(a,b),'\\n')     # dot product\n",
    "print('cross product of a and b =',np.cross(a,b),'\\n')   # cross product （z2y1-z1y2）i  (z1x2-z2x1)j (x1y2-x2y1)"
   ]
  },
  {
   "cell_type": "markdown",
   "metadata": {
    "id": "Hn8hJJz3fgyI"
   },
   "source": [
    "### Matrices (2D arrays)\n",
    "\n",
    "Here are a number of ways of creating 2D arrays:"
   ]
  },
  {
   "cell_type": "code",
   "execution_count": 52,
   "metadata": {
    "ExecuteTime": {
     "end_time": "2023-09-16T04:33:32.691495600Z",
     "start_time": "2023-09-16T04:33:32.478638400Z"
    },
    "colab": {
     "base_uri": "https://localhost:8080/"
    },
    "executionInfo": {
     "elapsed": 6177,
     "status": "ok",
     "timestamp": 1632770021642,
     "user": {
      "displayName": "Dominic Taunton",
      "photoUrl": "https://lh3.googleusercontent.com/a-/AOh14Gi_Yf8FdeF7tcuNjcv_HStq585OLQyw81WwWe6XQw=s64",
      "userId": "05563124449967144667"
     },
     "user_tz": -60
    },
    "id": "MRYLmbFmfgyI",
    "outputId": "4d699069-1aa3-453a-97db-547f4448b80f"
   },
   "outputs": [
    {
     "name": "stdout",
     "output_type": "stream",
     "text": [
      "a= [[1 2 3]\n",
      " [4 5 6]\n",
      " [7 8 9]] \n",
      "\n",
      "b= [[0. 0. 0. 0. 0.]\n",
      " [0. 0. 0. 0. 0.]\n",
      " [0. 0. 0. 0. 0.]\n",
      " [0. 0. 0. 0. 0.]\n",
      " [0. 0. 0. 0. 0.]] \n",
      "\n",
      "c= [[1. 1. 1. 1. 1.]\n",
      " [1. 1. 1. 1. 1.]\n",
      " [1. 1. 1. 1. 1.]\n",
      " [1. 1. 1. 1. 1.]\n",
      " [1. 1. 1. 1. 1.]] \n",
      "\n",
      "d= [[0.26089614 0.02622036 0.35972883 0.78606846 0.17760869]\n",
      " [0.10063718 0.31685337 0.3600161  0.07600123 0.73382045]\n",
      " [0.78173372 0.38240255 0.49013481 0.68979068 0.83576786]\n",
      " [0.83171176 0.22117075 0.45214997 0.88491316 0.1140063 ]\n",
      " [0.68754661 0.20777031 0.30957769 0.14217026 0.89127061]] \n",
      "\n",
      "e= [[ 1  2  3  4  5]\n",
      " [ 6  7  8  9 10]\n",
      " [11 12 13 14 15]\n",
      " [16 17 18 19 20]\n",
      " [21 22 23 24 25]] \n",
      "\n",
      "f= [[100.   0.   0.]\n",
      " [  0. 100.   0.]\n",
      " [  0.   0.   1.]] \n",
      "\n",
      "g= [[1. 0. 0. 0.]\n",
      " [0. 1. 0. 0.]\n",
      " [0. 0. 1. 0.]\n",
      " [0. 0. 0. 1.]] \n",
      "\n",
      "h= [[1 0 0]\n",
      " [0 4 0]\n",
      " [0 0 3]] \n"
     ]
    }
   ],
   "source": [
    "%reset -f\n",
    "import numpy as np  # importing the numpy package into the python kernel we are using\n",
    "a = np.array([[1,2,3], [4,5,6], [7,8,9]]) # converting list of lists using np.array\n",
    "b = np.zeros([5,5]) # creates a [5,5] matrix of zeros \n",
    "c = np.ones([5,5]) # creates a [5,5] matrix of ones\n",
    "d = np.random.rand(5,5) # creates a [5,5] matrix of random numbers in 0-1\n",
    "e = np.arange(1,26).reshape(5,5)  # creates a [5,5] matrix of from 1-25\n",
    "f = np.empty([3,3]) # creates an empty 3x3 array (or at least very small values)\n",
    "g = np.eye(4) # creates a eye matrix\n",
    "h = np.diag([1,4,3])  #Creates a diagonal matrix with specified values 创建具有指定值的对角矩阵 \n",
    "\n",
    "print('a=',a,'\\n')\n",
    "print('b=',b,'\\n')\n",
    "print('c=',c,'\\n')\n",
    "print('d=',d,'\\n')\n",
    "print('e=',e,'\\n')\n",
    "print('f=',f,'\\n')\n",
    "print('g=',g,'\\n')\n",
    "print('h=',h,'\\n')"
   ]
  },
  {
   "cell_type": "markdown",
   "metadata": {
    "id": "MWpOYyV4fgyJ"
   },
   "source": [
    "Create a 3 by 3 matrix of random integers with values between 0 and 9.\n",
    "Hint look at the options for numpy function [randint](https://www.w3schools.com/python/ref_random_randint.asp)\n",
    "    "
   ]
  },
  {
   "cell_type": "code",
   "execution_count": 53,
   "metadata": {
    "ExecuteTime": {
     "end_time": "2023-09-16T04:33:32.706770900Z",
     "start_time": "2023-09-16T04:33:32.564698900Z"
    }
   },
   "outputs": [
    {
     "data": {
      "text/plain": [
       "array([[0, 0, 1],\n",
       "       [7, 0, 1],\n",
       "       [8, 2, 2]])"
      ]
     },
     "execution_count": 53,
     "metadata": {},
     "output_type": "execute_result"
    }
   ],
   "source": [
    "#np.random.randint?\n",
    "B=np.random.randint(0,9,[3,3])\n",
    "B"
   ]
  },
  {
   "cell_type": "markdown",
   "metadata": {
    "id": "kIV0YtsqfgyJ"
   },
   "source": [
    "### Basic array addressing:"
   ]
  },
  {
   "cell_type": "code",
   "execution_count": 54,
   "metadata": {
    "ExecuteTime": {
     "end_time": "2023-09-16T04:33:32.910743300Z",
     "start_time": "2023-09-16T04:33:32.564698900Z"
    },
    "colab": {
     "base_uri": "https://localhost:8080/"
    },
    "executionInfo": {
     "elapsed": 146,
     "status": "ok",
     "timestamp": 1632770021646,
     "user": {
      "displayName": "Dominic Taunton",
      "photoUrl": "https://lh3.googleusercontent.com/a-/AOh14Gi_Yf8FdeF7tcuNjcv_HStq585OLQyw81WwWe6XQw=s64",
      "userId": "05563124449967144667"
     },
     "user_tz": -60
    },
    "id": "2f72lPYufgyJ",
    "outputId": "fcd81ca0-ea09-4453-8fd3-add7e70457bd"
   },
   "outputs": [
    {
     "name": "stdout",
     "output_type": "stream",
     "text": [
      "[[1 2 3]\n",
      " [4 5 6]\n",
      " [7 8 9]]\n",
      "\n",
      "\n",
      "[1 2 3]\n",
      "\n",
      "\n",
      "9\n",
      "\n",
      "\n",
      "[3 6 9]\n",
      "\n",
      "\n",
      "[3 6]\n"
     ]
    }
   ],
   "source": [
    "a = np.array([[1,2,3], [4,5,6], [7,8,9]]) #creates a 3x3 array with integer values between 1 and 9\n",
    "print (a) #returns the array a\n",
    "print('\\n')\n",
    "\n",
    "print (a[0])  # returns the second row (NB. indexing starts from 0 in python)\n",
    "print('\\n')\n",
    "\n",
    "print(a[2,2]) # returns element from third row, and third column\n",
    "print('\\n')\n",
    "\n",
    "print (a[:,2]) # returns all rows of third column, the : is called slicing\n",
    "print('\\n')\n",
    "\n",
    "print (a[0:2,2]) #returns first to second rows of third column   a[0,2]  a[1,2] "
   ]
  },
  {
   "cell_type": "code",
   "execution_count": 55,
   "metadata": {
    "ExecuteTime": {
     "end_time": "2023-09-16T04:33:32.910743300Z",
     "start_time": "2023-09-16T04:33:32.615850400Z"
    }
   },
   "outputs": [
    {
     "name": "stdout",
     "output_type": "stream",
     "text": [
      "a =\n",
      " [[1 2 3]\n",
      " [4 5 6]\n",
      " [7 8 9]] \n",
      "\n",
      "Print row by row\n",
      "\n",
      "[1 2 3]\n",
      "[4 5 6]\n",
      "[7 8 9]\n",
      "\n",
      "\n",
      "Print each column in the row\n",
      "\n",
      "\n",
      "1\n",
      "2\n",
      "3\n",
      "\n",
      "\n",
      "4\n",
      "5\n",
      "6\n",
      "\n",
      "\n",
      "7\n",
      "8\n",
      "9\n"
     ]
    }
   ],
   "source": [
    "a = np.array([[1,2,3], [4,5,6], [7,8,9]]) #creates a 3x3 array with integer values between 1 and 9\n",
    "print('a =\\n',a,'\\n')\n",
    "print('Print row by row\\n')\n",
    "for row in a:\n",
    "    print(row) # prints all the values in the row\n",
    "    \n",
    "print('\\n')\n",
    "print('Print each column in the row')\n",
    "for row in a:\n",
    "    print('\\n')\n",
    "    for col in row:\n",
    "        print(col) # prints each column in the row    "
   ]
  },
  {
   "cell_type": "markdown",
   "metadata": {
    "id": "2UkeAb2WfgyK"
   },
   "source": [
    "### Matrix Maths\n",
    "\n",
    "#### Translations\n",
    "\n",
    "Basic matrix maths is a very powerful tool in computation. A good example of this is coordinate transformations. If we were to start with four points (A,B,C and D) **which define a shape in a two dimensional plane.** "
   ]
  },
  {
   "cell_type": "code",
   "execution_count": 56,
   "metadata": {
    "ExecuteTime": {
     "end_time": "2023-09-16T04:33:33.192301300Z",
     "start_time": "2023-09-16T04:33:32.615850400Z"
    },
    "colab": {
     "base_uri": "https://localhost:8080/",
     "height": 301
    },
    "executionInfo": {
     "elapsed": 72,
     "status": "ok",
     "timestamp": 1632770021655,
     "user": {
      "displayName": "Dominic Taunton",
      "photoUrl": "https://lh3.googleusercontent.com/a-/AOh14Gi_Yf8FdeF7tcuNjcv_HStq585OLQyw81WwWe6XQw=s64",
      "userId": "05563124449967144667"
     },
     "user_tz": -60
    },
    "id": "ELBXK_rnfgyK",
    "outputId": "21efd74d-6c2a-4e18-9bed-60595a4bae1b"
   },
   "outputs": [
    {
     "name": "stdout",
     "output_type": "stream",
     "text": [
      "A= [[-2]\n",
      " [ 2]] \n",
      "\n",
      "(2, 1)\n",
      "\n"
     ]
    },
    {
     "data": {
      "text/plain": [
       "Text(0.5, -0.03, 'Figure 1: Original points ABCD')"
      ]
     },
     "execution_count": 56,
     "metadata": {},
     "output_type": "execute_result"
    },
    {
     "data": {
      "image/png": "[encoded data removed]",
      "text/plain": [
       "<Figure size 640x480 with 1 Axes>"
      ]
     },
     "metadata": {},
     "output_type": "display_data"
    }
   ],
   "source": [
    "A=np.array([[-2,2]]).T  #transposition\n",
    "print('A=',A,'\\n')\n",
    "print(A.shape)\n",
    "print('\\n')\n",
    "B=np.array([[-1,3]]).T\n",
    "C=np.array([[-1,1]]).T\n",
    "D=np.array([[-2,1]]).T\n",
    "\n",
    "import matplotlib.pyplot as plt\n",
    "plt.figure() # create a new figure\n",
    "plt.plot(A[0],A[1],'ro'), plt.text(A[0]+0.05,A[1]+0.05,'A') # create A to the right of the point\n",
    "plt.plot(B[0],B[1],'ko'), plt.text(B[0]+0.05,B[1]+0.05,'B')\n",
    "plt.plot(C[0],C[1],'ko'), plt.text(C[0]+0.05,C[1]+0.05,'C')\n",
    "plt.plot(D[0],D[1],'ko'), plt.text(D[0]+0.05,D[1]+0.05,'D')\n",
    "plt.grid('on')\n",
    "plt.axis([-4,4,-4,4])\n",
    "plt.xlabel('x')\n",
    "plt.ylabel('y');\n",
    "cap1='Figure 1: Original points ABCD'\n",
    "plt.figtext(0.5, -0.03, cap1, wrap=True, horizontalalignment='center', fontsize=14) \n",
    "# 0.5, -0.03 is the text 'Figure 1: Original points ABCD' position  wrap is line wrap 换行 horizontalalignment水平对齐"
   ]
  },
  {
   "cell_type": "markdown",
   "metadata": {
    "id": "_zcfGVKSfgyL"
   },
   "source": [
    "Suppose that we wanted to translate the points (A-D) three units to the right and two units down. We could add 3 to the x coordinate of each point and subtract 2 from the y coordinate of each point. Or we could do this in matrix form:\n",
    "\n",
    "**$$ A' = A + t $$**\n",
    "\n",
    "$$ \\begin{bmatrix}x' \\\\ y'\\end{bmatrix} = \\begin{bmatrix} x \\\\ y \\end{bmatrix} + \\begin{bmatrix} 3 \\\\-2 \\end{bmatrix} $$\n",
    "\n",
    "The new coordinates of point A or A' are calculated below:  "
   ]
  },
  {
   "cell_type": "code",
   "execution_count": 57,
   "metadata": {
    "ExecuteTime": {
     "end_time": "2023-09-16T04:33:33.192301300Z",
     "start_time": "2023-09-16T04:33:32.832539900Z"
    },
    "colab": {
     "base_uri": "https://localhost:8080/"
    },
    "executionInfo": {
     "elapsed": 49,
     "status": "ok",
     "timestamp": 1632770021656,
     "user": {
      "displayName": "Dominic Taunton",
      "photoUrl": "https://lh3.googleusercontent.com/a-/AOh14Gi_Yf8FdeF7tcuNjcv_HStq585OLQyw81WwWe6XQw=s64",
      "userId": "05563124449967144667"
     },
     "user_tz": -60
    },
    "id": "DsM1n-cefgyL",
    "outputId": "0832308b-f3be-4716-8ef0-cb81ea4464a9"
   },
   "outputs": [
    {
     "name": "stdout",
     "output_type": "stream",
     "text": [
      "A =  [[-2  2]] \n",
      "\n",
      "t =  [[ 3 -2]] \n",
      "\n",
      "A' =  [[1 0]] \n"
     ]
    }
   ],
   "source": [
    "t = np.array([[3, -2]]).T\n",
    "Aprime = A + t\n",
    "print('A = ', A.T,'\\n')\n",
    "print('t = ', t.T,'\\n')\n",
    "print('A\\' = ', Aprime.T,'\\n')\n",
    "Bprime = B + t\n",
    "Cprime = C + t\n",
    "Dprime = D + t"
   ]
  },
  {
   "cell_type": "code",
   "execution_count": 58,
   "metadata": {
    "ExecuteTime": {
     "end_time": "2023-09-16T04:33:33.470414800Z",
     "start_time": "2023-09-16T04:33:32.832539900Z"
    },
    "colab": {
     "base_uri": "https://localhost:8080/",
     "height": 307
    },
    "executionInfo": {
     "elapsed": 420,
     "status": "ok",
     "timestamp": 1632770022049,
     "user": {
      "displayName": "Dominic Taunton",
      "photoUrl": "https://lh3.googleusercontent.com/a-/AOh14Gi_Yf8FdeF7tcuNjcv_HStq585OLQyw81WwWe6XQw=s64",
      "userId": "05563124449967144667"
     },
     "user_tz": -60
    },
    "id": "n8wUPwo0fgyL",
    "outputId": "3a450cb0-a932-45e4-c20f-e5594f7a5bbe"
   },
   "outputs": [
    {
     "data": {
      "text/plain": [
       "Text(0.5, -0.03, \"Figure 2: Original points ABCD and translated points A'B'C'D'\")"
      ]
     },
     "execution_count": 58,
     "metadata": {},
     "output_type": "execute_result"
    },
    {
     "data": {
      "image/png": "[encoded data removed]",
      "text/plain": [
       "<Figure size 640x480 with 1 Axes>"
      ]
     },
     "metadata": {},
     "output_type": "display_data"
    }
   ],
   "source": [
    "plt.figure()\n",
    "plt.plot(A[0],A[1],'ko'), plt.text(A[0],A[1]+0.05,'A')\n",
    "plt.plot(B[0],B[1],'ko'), plt.text(B[0],B[1]+0.05,'B')\n",
    "plt.plot(C[0],C[1],'ko'), plt.text(C[0],C[1]+0.05,'C')\n",
    "plt.plot(D[0],D[1],'ko'), plt.text(D[0],D[1]+0.05,'D')\n",
    "\n",
    "plt.plot(Aprime[0],Aprime[1],'rs'), plt.text(Aprime[0],Aprime[1]+0.05,'A\\'')\n",
    "plt.plot(Bprime[0],Bprime[1],'rs'), plt.text(Bprime[0],Bprime[1]+0.05,'B\\'')\n",
    "plt.plot(Cprime[0],Cprime[1],'rs'), plt.text(Cprime[0],Cprime[1]+0.05,'C\\'')\n",
    "plt.plot(Dprime[0],Dprime[1],'rs'), plt.text(Dprime[0],Dprime[1]+0.05,'D\\'')\n",
    "plt.grid('on')\n",
    "plt.axis([-4,4,-4,4])\n",
    "plt.xlabel('x')\n",
    "plt.ylabel('y')\n",
    "cap2=\"Figure 2: Original points ABCD and translated points A'B'C'D'\"\n",
    "plt.figtext(0.5, -0.03, cap2, wrap=True, horizontalalignment='center', fontsize=14)"
   ]
  },
  {
   "cell_type": "markdown",
   "metadata": {
    "id": "seh4uKd8fgyM"
   },
   "source": [
    "#### Rotations\n",
    "\n",
    "Now suppose we wanted to rotate the original points A to D through a specified angle. You could use the following equations to rotate the x and y coordinates:\n",
    "\n",
    "$$ x' = x cos (\\phi) +  y sin (\\phi) $$\n",
    "$$ y' = -x sin (\\phi) + y cos (\\phi) $$\n",
    "\n",
    "Which written in matrix form become:\n",
    "\n",
    "$$ \\begin{bmatrix}x' \\\\ y' \\end{bmatrix} = \\begin{bmatrix} cos(\\phi) & sin(\\phi) \\\\ -sin(\\phi) & cos(\\phi) \\end{bmatrix} \\begin{bmatrix}x \\\\ y \\end{bmatrix}  $$\n",
    "\n",
    "A quick check should show that if we rotate the initial values x and y through an angle of 360 degrees the new values should lie on top of the original values."
   ]
  },
  {
   "cell_type": "code",
   "execution_count": 59,
   "metadata": {
    "ExecuteTime": {
     "end_time": "2023-09-16T04:33:33.613406500Z",
     "start_time": "2023-09-16T04:33:33.090548800Z"
    },
    "colab": {
     "base_uri": "https://localhost:8080/",
     "height": 879
    },
    "executionInfo": {
     "elapsed": 401,
     "status": "ok",
     "timestamp": 1632770146636,
     "user": {
      "displayName": "Dominic Taunton",
      "photoUrl": "https://lh3.googleusercontent.com/a-/AOh14Gi_Yf8FdeF7tcuNjcv_HStq585OLQyw81WwWe6XQw=s64",
      "userId": "05563124449967144667"
     },
     "user_tz": -60
    },
    "id": "XLnAXGkmfgyM",
    "outputId": "35ce4335-960b-434d-94f6-270532e270bd"
   },
   "outputs": [
    {
     "name": "stdout",
     "output_type": "stream",
     "text": [
      "r =  [[-1.0000000e+00  1.2246468e-16]\n",
      " [-1.2246468e-16 -1.0000000e+00]] \n"
     ]
    },
    {
     "data": {
      "text/plain": [
       "Text(0.5, -0.03, \"Figure 3: Original points ABCD and rotated points A'B'C'D'\")"
      ]
     },
     "execution_count": 59,
     "metadata": {},
     "output_type": "execute_result"
    },
    {
     "data": {
      "image/png": "[encoded data removed]",
      "text/plain": [
       "<Figure size 640x480 with 1 Axes>"
      ]
     },
     "metadata": {},
     "output_type": "display_data"
    }
   ],
   "source": [
    "phi=180*np.pi/180\n",
    "\n",
    "r = np.ones([2,2])\n",
    "\n",
    "r[0,0]=np.cos(phi)\n",
    "r[0,1]=np.sin(phi)\n",
    "r[1,0]=-np.sin(phi)\n",
    "r[1,1]=np.cos(phi)\n",
    "\n",
    "print('r = ',r,'\\n')\n",
    "\n",
    "Aprime = np.dot(r,A) # note we need to use the dot product.\n",
    "Bprime = np.dot(r,B)\n",
    "Cprime = np.dot(r,C)\n",
    "Dprime = np.dot(r,D)\n",
    "\n",
    "\n",
    "plt.figure()\n",
    "plt.plot(A[0],A[1],'k+'), plt.text(A[0],A[1]+0.05,'A')\n",
    "plt.plot(B[0],B[1],'k+'), plt.text(B[0],B[1]+0.05,'B')\n",
    "plt.plot(C[0],C[1],'k+'), plt.text(C[0],C[1]+0.05,'C')\n",
    "plt.plot(D[0],D[1],'k+'), plt.text(D[0],D[1]+0.05,'D')\n",
    "\n",
    "plt.plot(Aprime[0],Aprime[1],'ro',markerfacecolor='none'), plt.text(Aprime[0],Aprime[1]+0.5,'A\\'')\n",
    "plt.plot(Bprime[0],Bprime[1],'ro',markerfacecolor='none'), plt.text(Bprime[0],Bprime[1]+0.5,'B\\'')\n",
    "plt.plot(Cprime[0],Cprime[1],'ro',markerfacecolor='none'), plt.text(Cprime[0],Cprime[1]+0.5,'C\\'')\n",
    "plt.plot(Dprime[0],Dprime[1],'ro',markerfacecolor='none'), plt.text(Dprime[0],Dprime[1]+0.5,'D\\'')\n",
    "plt.grid('on')\n",
    "plt.axis([-4,4,-4,4])\n",
    "plt.xlabel('x')\n",
    "plt.ylabel('y')\n",
    "plt.plot()\n",
    "cap3=\"Figure 3: Original points ABCD and rotated points A'B'C'D'\"\n",
    "plt.figtext(0.5, -0.03, cap3, wrap=True, horizontalalignment='center', fontsize=14)\n"
   ]
  },
  {
   "cell_type": "markdown",
   "metadata": {
    "id": "Sw1a2FmWfgyN"
   },
   "source": [
    "So what happens if you were to rotate points (A-D) through an angle of 90 degrees?\n",
    "\n"
   ]
  },
  {
   "cell_type": "markdown",
   "metadata": {
    "id": "ZkU7Uf8hfgyN"
   },
   "source": [
    "## 4 Solving Systems of Linear Equations\n",
    "\n",
    "\n",
    "Consider the following system of simultaneous equations:\n",
    "\n",
    "$$ 2X - 2Y + Z = 3 $$\n",
    "\n",
    "$$ 3X + Y - Z = 7 $$\n",
    "$$ X - 3Y + 2Z = 0$$\n",
    "\n",
    "We can write this in matrix form as follows:\n",
    "\n",
    "$$A = \\left[\\begin{matrix} 2 & -2 & 1 \\\\ 3 & 1 & -1 \\\\ 1 & -3 & 2 \\end{matrix} \\right]$$\n",
    "\n",
    "And the vectors of unknowns, **x**, and the right-hand side, **b**, as:\n",
    "\n",
    "$$ x = \\left[ \\begin{matrix} X \\\\ Y \\\\ Z \\end{matrix} \\right]$$, $$ b = \\left[ \\begin{matrix} 3 \\\\ 7 \\\\ 0 \\end{matrix} \\right]$$\n",
    "\n",
    "We can write the above system of three equations in matrix form as:\n",
    "\n",
    "$$\\left[\\begin{matrix} 2 & -2 & 1 \\\\ 3 & 1 & -1 \\\\ 1 & -3 & 2 \\end{matrix} \\right] \\left[ \\begin{matrix} X \\\\ Y \\\\ Z \\end{matrix} \\right] = \\left[ \\begin{matrix} 3 \\\\ 7 \\\\ 0 \\end{matrix} \\right] $$\n",
    "\n",
    "Or more concisely as the single matrix equation $$ Ax=b$$\n",
    "\n",
    "The solution of which may be written as: $$x = A^{-1}b$$\n",
    "\n",
    "Where **$A^{-1}$** is the matrix inverse of **A**.\n",
    "\n",
    "Now use python to solve this system of equations:\n",
    "\n",
    "**from numpy.linalg.linalg import solve ** : solve function is used to solve the eqation of $x = A^{-1}b$"
   ]
  },
  {
   "cell_type": "code",
   "execution_count": 60,
   "metadata": {
    "ExecuteTime": {
     "end_time": "2023-09-16T04:33:33.613406500Z",
     "start_time": "2023-09-16T04:33:33.328676Z"
    },
    "colab": {
     "base_uri": "https://localhost:8080/"
    },
    "executionInfo": {
     "elapsed": 117,
     "status": "ok",
     "timestamp": 1632770029649,
     "user": {
      "displayName": "Dominic Taunton",
      "photoUrl": "https://lh3.googleusercontent.com/a-/AOh14Gi_Yf8FdeF7tcuNjcv_HStq585OLQyw81WwWe6XQw=s64",
      "userId": "05563124449967144667"
     },
     "user_tz": -60
    },
    "id": "cGmsqYIXfgyO",
    "outputId": "8bd403c0-053b-494e-8ec0-e75c3b00af0c"
   },
   "outputs": [
    {
     "name": "stdout",
     "output_type": "stream",
     "text": [
      "A =  [[ 2 -2  1]\n",
      " [ 3  1 -1]\n",
      " [ 1 -3  2]] \n",
      "\n",
      "b =  [[3]\n",
      " [7]\n",
      " [0]] \n",
      "\n",
      "x= [[ 2.]\n",
      " [ 0.]\n",
      " [-1.]]\n"
     ]
    }
   ],
   "source": [
    "import numpy.linalg as la #we need to import the linear algebra functions\n",
    "from numpy.linalg.linalg import lstsq  #求解超定方程\n",
    "from numpy.linalg.linalg import solve  # 求解线性方程\n",
    "A = np.array([[2, -2, 1],[3, 1, -1],[1, -3, 2]])\n",
    "b = np.array([[3, 7, 0]]).T\n",
    "x = solve(A,b)\n",
    "print('A = ',A ,'\\n')\n",
    "print('b = ',b ,'\\n')\n",
    "print('x=',np.round(x,2))"
   ]
  },
  {
   "cell_type": "markdown",
   "metadata": {
    "id": "y4EfT_N9fgyO"
   },
   "source": [
    "The **solve** function will only find the solution for a fully determined case, where the number of equations is equal to the number of unknowns, and **A** is a square matrix. In order to confirm that python has calculated the solution to the system of equations, calculate the residual (a measure of the accuracy of the solution) using the **numpy** dot product function **dot**:\n",
    "$$r = Ax - b$$\n"
   ]
  },
  {
   "cell_type": "code",
   "execution_count": 61,
   "metadata": {
    "ExecuteTime": {
     "end_time": "2023-09-16T04:33:33.613406500Z",
     "start_time": "2023-09-16T04:33:33.328676Z"
    },
    "colab": {
     "base_uri": "https://localhost:8080/"
    },
    "executionInfo": {
     "elapsed": 89,
     "status": "ok",
     "timestamp": 1632770029651,
     "user": {
      "displayName": "Dominic Taunton",
      "photoUrl": "https://lh3.googleusercontent.com/a-/AOh14Gi_Yf8FdeF7tcuNjcv_HStq585OLQyw81WwWe6XQw=s64",
      "userId": "05563124449967144667"
     },
     "user_tz": -60
    },
    "id": "yWsj7iC-fgyO",
    "outputId": "1aba563b-2e79-47a5-81ea-e7205f00833c"
   },
   "outputs": [
    {
     "name": "stdout",
     "output_type": "stream",
     "text": [
      "r= [[4.44089210e-16]\n",
      " [8.88178420e-16]\n",
      " [6.66133815e-16]] \n",
      "\n",
      "True\n"
     ]
    },
    {
     "data": {
      "text/plain": [
       "'The numpy allclose command checks whether two variables are closer than a tolerance. You can specify the tolerance or use a default value.'"
      ]
     },
     "execution_count": 61,
     "metadata": {},
     "output_type": "execute_result"
    }
   ],
   "source": [
    "r = np.dot(A, x) - b\n",
    "print('r=',r,'\\n')\n",
    "print(np.allclose(np.dot(A, x), b))\n",
    "'''The numpy allclose command checks whether two variables are closer than a tolerance. You can specify the tolerance or use a default value.'''"
   ]
  },
  {
   "cell_type": "markdown",
   "metadata": {
    "id": "3podHDmXfgyO"
   },
   "source": [
    "## 5 Solving Systems of over and under determined Equations\n",
    "\n",
    "In this case that the system is over determined, where we have more equations than unknowns, we can’t use the **solve** function.  We can use the **lstsq** （ LeaST SQuare 最小二乘法-用最小二乘法拟合数据得到一个形如y = mx + c的线性方程）function which for over and under determined systems solves by least squares, for the fully determined system it produces an exact solution.\n",
    "\n",
    "So now solve the following over determined system of simultaneous equations:\n",
    "$$X - Y = 0$$\n",
    "$$ Y = 2$$\n",
    "$$ X = 1$$\n",
    "\n",
    "First write this in matrix form, **$Ax=b$**\n",
    "\n",
    "$$\\left[\\begin{matrix}1 & -1 \\\\0 & 1\\\\1 & 0 \\end{matrix} \\right] \\left[\\begin{matrix} X \\\\ Y \\end{matrix} \\right] = \\left[\\begin{matrix}0 \\\\ 2 \\\\ 1 \\end{matrix} \\right]$$\n"
   ]
  },
  {
   "cell_type": "markdown",
   "metadata": {},
   "source": [
    "### Linear regression 线性回归 using `lstsq`\n",
    "\n",
    "The `lstsq` function minimises the vertical error (the sum of the squares of the error) between a best fit line and the data.\n",
    "\n",
    "In the example below, the `lstsq` function is used to fit a best fit trendline to some noisy data which has the general form of the equation of a straight line $y = mx + c$."
   ]
  },
  {
   "cell_type": "code",
   "execution_count": 62,
   "metadata": {
    "ExecuteTime": {
     "end_time": "2023-09-16T04:33:33.910573600Z",
     "start_time": "2023-09-16T04:33:33.328676Z"
    }
   },
   "outputs": [
    {
     "name": "stdout",
     "output_type": "stream",
     "text": [
      "x =  [ 0  1  2  3  4  5  6  7  8  9 10] \n",
      "\n",
      "y =  [-0.6  3.6  7.3  8.9 16.  16.2 19.6 23.2 32.  39.1 31.2] \n",
      "\n",
      "A =  [[ 0.  1.]\n",
      " [ 1.  1.]\n",
      " [ 2.  1.]\n",
      " [ 3.  1.]\n",
      " [ 4.  1.]\n",
      " [ 5.  1.]\n",
      " [ 6.  1.]\n",
      " [ 7.  1.]\n",
      " [ 8.  1.]\n",
      " [ 9.  1.]\n",
      " [10.  1.]] \n",
      "\n",
      "m =  3.702727272727274 \n",
      "\n",
      "c =  -0.650000000000006 \n"
     ]
    },
    {
     "data": {
      "text/plain": [
       "<matplotlib.legend.Legend at 0x7ff212039e10>"
      ]
     },
     "execution_count": 62,
     "metadata": {},
     "output_type": "execute_result"
    },
    {
     "data": {
      "image/png": "[encoded data removed]",
      "text/plain": [
       "<Figure size 640x480 with 1 Axes>"
      ]
     },
     "metadata": {},
     "output_type": "display_data"
    }
   ],
   "source": [
    "%reset -f\n",
    "import numpy as np \n",
    "import matplotlib.pyplot as plt  #importing pyplot from matplotlib \n",
    "import numpy.linalg as la #we need to import the linear algebra functions\n",
    "from numpy.linalg.linalg import lstsq  #求解超定方程\n",
    "x=np.arange(0,11)\n",
    "y=np.array([-0.6,3.6,7.3,8.9,16.0,16.2,19.6,23.2,32.0,39.1,31.2])\n",
    "\n",
    "print('x = ',x,'\\n')\n",
    "print('y = ',y,'\\n')\n",
    "\n",
    "#Plot original data\n",
    "plt.figure()\n",
    "plt.plot(x,y,'ko')\n",
    "plt.grid()\n",
    "\n",
    "# Create matrix form of y = mx + c\n",
    "A=np.vstack([x, np.ones(len(x))]).T #in this case vstack function creates a vertical stack of x above an array ones.\n",
    "print('A = ',A,'\\n')\n",
    "\n",
    "#solve using least squares\n",
    "m,c = lstsq(A,y, rcond=None)[0]  #[0] 指的是返回斜率和截距 slope and intercept\n",
    "\n",
    "print('m = ',m,'\\n')\n",
    "print('c = ',c,'\\n')\n",
    "yfit=m*x+c\n",
    "\n",
    "plt.plot(x,yfit,'r-')\n",
    "plt.legend(['data','Fit'])"
   ]
  },
  {
   "cell_type": "markdown",
   "metadata": {},
   "source": [
    "Now write the equation of a straight line $y=mx+c$ in matrix form:\n",
    "\n",
    "We can rewrite the line equation as $y = Ap$, where $A = \\begin{bmatrix} x & 1 \\end{bmatrix}$ and $p = \\begin{bmatrix} m \\\\ c \\end{bmatrix}$. Now use lstsq to solve for p:"
   ]
  },
  {
   "cell_type": "code",
   "execution_count": 63,
   "metadata": {
    "ExecuteTime": {
     "end_time": "2023-09-16T04:33:33.910573600Z",
     "start_time": "2023-09-16T04:33:33.645176800Z"
    }
   },
   "outputs": [
    {
     "data": {
      "text/plain": [
       "array([-0.65      ,  3.05272727,  6.75545455, 10.45818182, 14.16090909,\n",
       "       17.86363636, 21.56636364, 25.26909091, 28.97181818, 32.67454545,\n",
       "       36.37727273])"
      ]
     },
     "execution_count": 63,
     "metadata": {},
     "output_type": "execute_result"
    }
   ],
   "source": [
    "p=np.array([m,c])\n",
    "A@p #Compute the matrix product to check，we got the results of the trend line"
   ]
  },
  {
   "cell_type": "code",
   "execution_count": 64,
   "metadata": {
    "ExecuteTime": {
     "end_time": "2023-09-16T04:33:33.910573600Z",
     "start_time": "2023-09-16T04:33:33.645176800Z"
    }
   },
   "outputs": [
    {
     "name": "stdout",
     "output_type": "stream",
     "text": [
      "True \n",
      "\n",
      "Compare Y = \n",
      " [[-0.6        -0.65      ]\n",
      " [ 3.6         3.05272727]\n",
      " [ 7.3         6.75545455]\n",
      " [ 8.9        10.45818182]\n",
      " [16.         14.16090909]\n",
      " [16.2        17.86363636]\n",
      " [19.6        21.56636364]\n",
      " [23.2        25.26909091]\n",
      " [32.         28.97181818]\n",
      " [39.1        32.67454545]\n",
      " [31.2        36.37727273]]\n"
     ]
    }
   ],
   "source": [
    "p = np.array([m,c])\n",
    "print(np.allclose(yfit,y,rtol=0.2),'\\n') #relative tolerance of 20%\n",
    "\n",
    "compareY=np.vstack([y,yfit]).T\n",
    "print('Compare Y = \\n',compareY)  # print the results of the trend line and original results. "
   ]
  },
  {
   "cell_type": "markdown",
   "metadata": {},
   "source": [
    "So now solve the following over determined system of simultaneous equations:\n",
    "$$X - Y = 0$$\n",
    "$$ Y = 2$$\n",
    "$$ X = 1$$\n",
    "\n",
    "First write this in matrix form, **$Ax=b$**\n",
    "\n",
    "$$\\left[\\begin{matrix}1 & -1 \\\\0 & 1\\\\1 & 0 \\end{matrix} \\right] \\left[\\begin{matrix} X \\\\ Y \\end{matrix} \\right] = \\left[\\begin{matrix}0 \\\\ 2 \\\\ 1 \\end{matrix} \\right]$$\n",
    "\n",
    "\n",
    "\n",
    "Now use python to solve this system of equations:"
   ]
  },
  {
   "cell_type": "code",
   "execution_count": 65,
   "metadata": {
    "ExecuteTime": {
     "end_time": "2023-09-16T04:33:33.910573600Z",
     "start_time": "2023-09-16T04:33:33.645176800Z"
    },
    "colab": {
     "base_uri": "https://localhost:8080/"
    },
    "executionInfo": {
     "elapsed": 66,
     "status": "ok",
     "timestamp": 1632770029652,
     "user": {
      "displayName": "Dominic Taunton",
      "photoUrl": "https://lh3.googleusercontent.com/a-/AOh14Gi_Yf8FdeF7tcuNjcv_HStq585OLQyw81WwWe6XQw=s64",
      "userId": "05563124449967144667"
     },
     "user_tz": -60
    },
    "id": "DgFWDSMWfgyO",
    "outputId": "bc8f4099-249a-43b2-af31-a3e30460e30f"
   },
   "outputs": [
    {
     "name": "stdout",
     "output_type": "stream",
     "text": [
      "A= [[ 1 -1]\n",
      " [ 0  1]\n",
      " [ 1  0]] \n",
      "\n",
      "b= [[0]\n",
      " [2]\n",
      " [1]] \n",
      "\n",
      "x= [[1.33333333]\n",
      " [1.66666667]]\n",
      "r= [0.33333333]\n"
     ]
    }
   ],
   "source": [
    "%reset -f\n",
    "import numpy as np \n",
    "import numpy.linalg as la #we need to import the linear algebra functions\n",
    "from numpy.linalg.linalg import lstsq  #求解超定方程\n",
    "A = np.array([[1, 0, 1],[-1, 1 ,0]]).T\n",
    "b = np.array([[0,2, 1]]).T\n",
    "print('A=',A,'\\n')\n",
    "print('b=',b,'\\n')\n",
    "[x,r,rank,s] = la.lstsq(A, b, rcond=None) \n",
    "#The full output gives the solution x and resisudals r, rcond用来处理回归中的异常值，一般不用。\n",
    "#lstsq的输出包括四部分：回归系数（斜率和截距）、残差平方和、自变量X的秩、X的奇异值。\n",
    "print('x=',x)\n",
    "print('r=',r)"
   ]
  },
  {
   "cell_type": "code",
   "execution_count": 66,
   "metadata": {
    "ExecuteTime": {
     "end_time": "2023-09-16T04:33:33.942134700Z",
     "start_time": "2023-09-16T04:33:33.753732800Z"
    },
    "colab": {
     "base_uri": "https://localhost:8080/"
    },
    "executionInfo": {
     "elapsed": 46,
     "status": "ok",
     "timestamp": 1632770029654,
     "user": {
      "displayName": "Dominic Taunton",
      "photoUrl": "https://lh3.googleusercontent.com/a-/AOh14Gi_Yf8FdeF7tcuNjcv_HStq585OLQyw81WwWe6XQw=s64",
      "userId": "05563124449967144667"
     },
     "user_tz": -60
    },
    "id": "29gRBOLjfgyP",
    "outputId": "81da3bfe-cc3b-4553-d86c-1b8d14db4e5c"
   },
   "outputs": [
    {
     "name": "stdout",
     "output_type": "stream",
     "text": [
      "r= [[-0.33333333]\n",
      " [-0.33333333]\n",
      " [ 0.33333333]]\n",
      "False\n"
     ]
    }
   ],
   "source": [
    "# It is also possible to calculate the residuals\n",
    "r2 = np.dot(A, x) - b\n",
    "print('r=',r2)\n",
    "print(np.allclose(np.dot(A, x), b)) #Determines if element of two arrays are within a tolerance"
   ]
  },
  {
   "cell_type": "markdown",
   "metadata": {},
   "source": [
    "Now try solving the under determined systems of equations using `la.lstsq`, where there are less equations than unknowns."
   ]
  },
  {
   "cell_type": "markdown",
   "metadata": {
    "id": "VJppubFFfgyP"
   },
   "source": [
    "Solve the following simultaneous equations:\n",
    "    $$x + y + z = 1$$\n",
    "    $$x + y + 2z = 3$$\n",
    "\n",
    "- Write the equation in the matrix form, **$Ax = b$**\n",
    "- Find the solution vector **$x$**.\n",
    "- Confirm that python has indeed found the solution by computing the residuals.\n",
    "\n"
   ]
  },
  {
   "cell_type": "code",
   "execution_count": 67,
   "metadata": {
    "ExecuteTime": {
     "end_time": "2023-09-16T04:33:33.942134700Z",
     "start_time": "2023-09-16T04:33:33.753732800Z"
    }
   },
   "outputs": [
    {
     "name": "stdout",
     "output_type": "stream",
     "text": [
      "A= [[1 1 1]\n",
      " [1 1 2]] \n",
      "\n",
      "b= [[1]\n",
      " [3]] \n",
      "\n",
      "x= [[-0.5]\n",
      " [-0.5]\n",
      " [ 2. ]] \n",
      "\n",
      "r= [[-3.33066907e-16]\n",
      " [ 0.00000000e+00]]\n"
     ]
    }
   ],
   "source": [
    "A = np.array([[1, 1, 1],[1, 1 ,2]])\n",
    "b = np.array([[1, 3]]).T\n",
    "\n",
    "print('A=',A,'\\n')\n",
    "print('b=',b,'\\n')\n",
    "\n",
    "x = la.lstsq(A, b, rcond=None)[0]\n",
    "print('x=',x,'\\n')\n",
    "\n",
    "r = np.dot(A, x) - b\n",
    "print('r=',r)"
   ]
  },
  {
   "cell_type": "markdown",
   "metadata": {},
   "source": [
    "## 6 Curve Fitting\n",
    "\n",
    "Curve fitting is one of the most common task you will want to carry out in computing. Suppose of you have set of data points $(x_i, y_i)$ where $i=1,2,3...N$ and you want to determine values of y between those specified. You could fit a function to the data, usually some sort of polynomial(多项式）, which will fit the data but can produce poor results outside of the range of data.\n",
    "\n",
    "A linear fit to this data will be quite poor."
   ]
  },
  {
   "cell_type": "code",
   "execution_count": 68,
   "metadata": {
    "ExecuteTime": {
     "end_time": "2023-09-16T04:33:34.279290900Z",
     "start_time": "2023-09-16T04:33:33.753732800Z"
    }
   },
   "outputs": [
    {
     "data": {
      "text/plain": [
       "[<matplotlib.lines.Line2D at 0x7ff22422c890>]"
      ]
     },
     "execution_count": 68,
     "metadata": {},
     "output_type": "execute_result"
    },
    {
     "data": {
      "image/png": "[encoded data removed]",
      "text/plain": [
       "<Figure size 1500x1000 with 1 Axes>"
      ]
     },
     "metadata": {},
     "output_type": "display_data"
    }
   ],
   "source": [
    "import matplotlib.pyplot as plt  #importing pyplot from matplotlib \n",
    "from numpy.polynomial import polynomial as P\n",
    "x=np.arange(0,2,0.2)\n",
    "y=np.sin(x)\n",
    "plt.figure(figsize=(15,10))\n",
    "plt.plot(x,y,'ko')\n",
    "plt.grid()\n",
    "\n",
    "# Linear regression using lstsq\n",
    "A=np.vstack([x, np.ones(len(x))]).T\n",
    "m,c=lstsq(A,y, rcond=None)[0]\n",
    "yfit=m*x+c\n",
    "plt.plot(x,yfit,'r-')\n",
    "\n",
    "# Polynomial Curve Fit - 1st order same as linear regression using lstsq 多项式曲线拟合\n",
    "c1, r1 = P.polyfit(x,y,1,full=True)\n",
    "yfit1=c1[1]*x+c1[0]\n",
    "plt.plot(x,yfit1,'g-')\n",
    "\n",
    "# Polynomial Curve Fit - 2nd order\n",
    "c2, r2 = P.polyfit(x,y,2,full=True)\n",
    "yfit2=c2[2]*x**2+c2[1]*x+c2[0]\n",
    "plt.plot(x,yfit2,'b-')\n",
    "\n",
    "# Polynomial Curve Fit - 3rd order\n",
    "c3, r3 = P.polyfit(x,y,3,full=True)\n",
    "yfit3=c3[3]*x**3+c3[2]*x**2+c3[1]*x+c3[0]\n",
    "plt.plot(x,yfit3,'r-')\n",
    "\n",
    "# Polynomial Curve Fit - 4th order\n",
    "c4, r4 = P.polyfit(x,y,4,full=True)\n",
    "yfit4=c4[4]*x**4+c4[3]*x**3+c4[2]*x**2+c4[1]*x+c4[0]\n",
    "plt.plot(x,yfit4,'c-')\n",
    "\n",
    "plt.legend(['Data','lin regress','Poly 1','Poly 2','Poly 3','Poly 4'])\n",
    "\n",
    "# The R^2 value - or the error.\n",
    "R1=np.round(1-r1[0],4)[0]\n",
    "R2=np.round(1-r2[0],4)[0]\n",
    "R3=np.round(1-r3[0],4)[0]\n",
    "R4=np.round(1-r4[0],4)[0]\n",
    "\n",
    "# The value of y at x=1.25 for the different curve fits\n",
    "x1=1.25 #范围之内\n",
    "y1=np.round(c1[1]*x1+c1[0],4)\n",
    "y2=np.round(c2[2]*x1**2+c2[1]*x1+c2[0],4)\n",
    "y3=np.round(c3[3]*x1**3+c3[2]*x1**2+c3[1]*x1+c3[0],4)\n",
    "y4=np.round(c4[4]*x1**4+c4[3]*x1**3+c4[2]*x1**2+c4[1]*x1+c4[0],4)\n",
    "\n",
    "# The value of y at x=2.5 for the different curve fits\n",
    "x2=2.5  #范围之外\n",
    "y11=np.round(c1[1]*x2+c1[0],4)\n",
    "y22=np.round(c2[2]*x2**2+c2[1]*x2+c2[0],4)\n",
    "y33=np.round(c3[3]*x2**3+c3[2]*x2**2+c3[1]*x2+c3[0],4)\n",
    "y44=np.round(c4[4]*x2**4+c4[3]*x2**3+c4[2]*x2**2+c4[1]*x2+c4[0],4)\n",
    "\n",
    "plt.plot(x1,y1,'rs',markersize=10)\n",
    "plt.plot(x1,y2,'gs',markersize=10)\n",
    "plt.plot(x1,y3,'bs',markersize=10)\n",
    "plt.plot(x1,y4,'cs',markersize=10)\n",
    "\n",
    "plt.plot(x2,y11,'rd',markersize=20)\n",
    "plt.plot(x2,y22,'gd',markersize=20)\n",
    "plt.plot(x2,y33,'bd',markersize=20)\n",
    "plt.plot(x2,y44,'cd',markersize=20)\n",
    "\n",
    "y=np.sin(x2)\n",
    "plt.plot(x2,y,'ko')\n"
   ]
  },
  {
   "cell_type": "markdown",
   "metadata": {},
   "source": [
    "Based on the curve fits it is possible to determine the value at any intermediate x value between 0 and 2. For example, the value of y at x=1.25.\n",
    "\n",
    "However, strange things can happen when you try to evaluate the polynomial functions outside the range 0 to 2. For example if we try and evaluate y at x=2.5; Here you can see the results are quite varied. Plotting the polynomials over a wider range should illustrate what is happening.\n",
    "\n",
    "\n",
    "| Degree \t| $R^2$ \t|    y@x=1.25   | y@x=2.5  |\n",
    "|--------\t|----\t    |--------| ----------|\n",
    "| 1      \t|   0.8851 \t| 0.8573 |  1.561  |\n",
    "| 2      \t|   0.998 \t| 0.9331 |  0.7457  |\n",
    "| 3      \t|   1.0   \t| 0.9491 |  0.435   |\n",
    "| 4         |   1.0     | 0.9488 |  0.577   |\n",
    "\n",
    "The true value of $y=sin(x)$ at x=2.5 is 0.6, but the presiction from the different curve fits varies between 0.435 and 1.561."
   ]
  },
  {
   "cell_type": "markdown",
   "metadata": {},
   "source": [
    "### Interpolation\n",
    "\n",
    "An alternative to fitting a polynomial curve to the data in order to find an intermediate point, is to use interpolation. \n",
    "In this tutorial you will only look at interpolation in 1 dimension. But there are 2D and higher dimension methods.\n",
    "Within 1D interpolation, there are the following methods:\n",
    "- nearest neighbour\n",
    "- linear\n",
    "- quadratic (requires at least 3 data points)\n",
    "- cubic (requires at least 4 data points)\n",
    "\n",
    "With some of the methods, there is the option to extrapolate outside the defined range."
   ]
  },
  {
   "cell_type": "code",
   "execution_count": 69,
   "metadata": {
    "ExecuteTime": {
     "end_time": "2023-09-16T04:33:34.688056100Z",
     "start_time": "2023-09-16T04:33:34.107734700Z"
    }
   },
   "outputs": [
    {
     "data": {
      "text/plain": [
       "<matplotlib.legend.Legend at 0x7ff215b25810>"
      ]
     },
     "execution_count": 69,
     "metadata": {},
     "output_type": "execute_result"
    },
    {
     "data": {
      "image/png": "[encoded data removed]",
      "text/plain": [
       "<Figure size 1500x1000 with 1 Axes>"
      ]
     },
     "metadata": {},
     "output_type": "display_data"
    }
   ],
   "source": [
    "x=np.arange(0,2.2,0.2)\n",
    "y=np.sin(x)\n",
    "plt.figure(figsize=(15,10))\n",
    "plt.plot(x,y,'ko')\n",
    "plt.grid()\n",
    "\n",
    "from scipy.interpolate import interp1d\n",
    "\n",
    "xi=np.arange(0,2.1,0.1)\n",
    "f1=interp1d(x,y,kind='nearest')\n",
    "y1=f1(xi)\n",
    "plt.plot(xi,y1,'r-')\n",
    "\n",
    "\n",
    "f1=interp1d(x,y,kind='linear')\n",
    "y1=f1(xi)\n",
    "plt.plot(xi,y1,'b-')\n",
    "\n",
    "f1=interp1d(x,y,kind='quadratic')\n",
    "y1=f1(xi)\n",
    "plt.plot(xi,y1,'g-')\n",
    "\n",
    "f1=interp1d(x,y,kind='cubic')\n",
    "y1=f1(xi)\n",
    "plt.plot(xi,y1,'c-')\n",
    "plt.legend(['Data','Nearest','Linear','Quadratic','Cubic'])"
   ]
  },
  {
   "cell_type": "markdown",
   "metadata": {},
   "source": [
    "## 6 Statistics\n",
    "\n",
    "Finally, there a many useful functions within the NumPy module, but often you may just want to calculate some simple statistics such as mean, standard deviation, maximum and minimum values."
   ]
  },
  {
   "cell_type": "code",
   "execution_count": 70,
   "metadata": {
    "ExecuteTime": {
     "end_time": "2023-09-16T04:33:34.698522200Z",
     "start_time": "2023-09-16T04:33:34.388659400Z"
    },
    "scrolled": true
   },
   "outputs": [
    {
     "name": "stdout",
     "output_type": "stream",
     "text": [
      "A=\n",
      " [ 1.59521335 -2.14586205 -0.23894629  2.08393962  0.24334469 -1.44597495\n",
      " -1.39343529  0.87599386  0.34547231  0.373635  ]\n",
      "mean of A = 0.029338025521787187\n",
      "standard deviation of A = 1.2906883274882017\n",
      "minimum value of A = -2.14586205277723\n",
      "maximum value of A = 2.0839396155136183\n",
      "Index of minimum value of A = 1\n",
      "Index of maximum value of A = 3\n",
      "A sorted in ascending order = [-2.14586205 -1.44597495 -1.39343529 -0.23894629  0.24334469  0.34547231\n",
      "  0.373635    0.87599386  1.59521335  2.08393962]\n"
     ]
    }
   ],
   "source": [
    "#Create an array.\n",
    "A=np.random.randn(10)\n",
    "print('A=\\n',A)\n",
    "print('mean of A = {}'.format(np.mean(A)))\n",
    "print('standard deviation of A = {}'.format(np.std(A)))\n",
    "print('minimum value of A = {}'.format(np.min(A)))\n",
    "print('maximum value of A = {}'.format(np.max(A)))\n",
    "print('Index of minimum value of A = {}'.format(np.argmin(A)))\n",
    "print('Index of maximum value of A = {}'.format(np.argmax(A)))\n",
    "print('A sorted in ascending order =',np.sort(A))"
   ]
  },
  {
   "cell_type": "markdown",
   "metadata": {},
   "source": [
    "## 7 Exercise"
   ]
  },
  {
   "cell_type": "markdown",
   "metadata": {},
   "source": [
    "## Question 1\n",
    "\n",
    "use python to solve the following simutaneous equations\n",
    "\n",
    "$$-2x -3y - z = -16 $$\n",
    "$$-x +5 y + 6z = 5$$\n",
    "$$-2x -4 y + 6z = -34$$\n",
    "what are the values of x, y, z"
   ]
  },
  {
   "cell_type": "markdown",
   "metadata": {},
   "source": [
    "## Question 2\n",
    "use python to solve the following simutaneous equations\n",
    "$$-3y - z = -10 $$\n",
    "$$3 y -3z = 18$$\n",
    "$$-4 y +5z =-26$$\n",
    "\n",
    "what are the values of y, z"
   ]
  },
  {
   "cell_type": "markdown",
   "metadata": {},
   "source": [
    "## Question 3\n",
    "use python to solve the following simutaneous equations\n",
    "\n",
    "$$-3x -9y - 4z = -23 $$\n",
    "$$6x -8 y +7z =-5$$\n",
    "\n",
    "what are the values of x, y, z"
   ]
  },
  {
   "cell_type": "markdown",
   "metadata": {},
   "source": [
    "## Question 4\n",
    "\n",
    "Some experimental data which should have a straight line trend is given below：\n",
    "\n",
    "|x |y |\n",
    "|:-----|:---|\n",
    "|0|13|\n",
    "|1|2.5|\n",
    "|2|-24|\n",
    "|3|-17.5|\n",
    "|4|-37|\n",
    "|5|-52.5|\n",
    "|6|-57|\n",
    "|7|-63.5|\n",
    "|8|-83|\n",
    "|9|-91.5|\n",
    "|10|-96|\n",
    "\n",
    "Calculate a best fit line which fits through this data using the numpy lstsq function.\n",
    "Return the values of m and c determined by the lstsq function."
   ]
  },
  {
   "cell_type": "markdown",
   "metadata": {},
   "source": [
    "## 8 Regular assignment"
   ]
  },
  {
   "cell_type": "markdown",
   "metadata": {},
   "source": [
    "Please finish a jupyter notebook for FT and FFT\n",
    "\n",
    "FT: https://space.bilibili.com/230105574\n",
    "\n",
    "10 marks \n",
    "\n",
    "Submit to teaching assistant: 27th Sep 2023"
   ]
  }
 ],
 "metadata": {
  "colab": {
   "name": "CH2-Matrices.ipynb",
   "provenance": []
  },
  "hide_input": false,
  "kernelspec": {
   "display_name": "Python 3 (ipykernel)",
   "language": "python",
   "name": "python3"
  },
  "language_info": {
   "codemirror_mode": {
    "name": "ipython",
    "version": 3
   },
   "file_extension": ".py",
   "mimetype": "text/x-python",
   "name": "python",
   "nbconvert_exporter": "python",
   "pygments_lexer": "ipython3",
   "version": "3.11.4"
  },
  "latex_envs": {
   "LaTeX_envs_menu_present": true,
   "autoclose": false,
   "autocomplete": true,
   "bibliofile": "biblio.bib",
   "cite_by": "apalike",
   "current_citInitial": 1,
   "eqLabelWithNumbers": true,
   "eqNumInitial": 1,
   "hotkeys": {
    "equation": "Ctrl-E",
    "itemize": "Ctrl-I"
   },
   "labels_anchors": false,
   "latex_user_defs": false,
   "report_style_numbering": false,
   "user_envs_cfg": false
  },
  "toc": {
   "base_numbering": 1,
   "nav_menu": {},
   "number_sections": true,
   "sideBar": true,
   "skip_h1_title": true,
   "title_cell": "Table of Contents",
   "title_sidebar": "Contents",
   "toc_cell": true,
   "toc_position": {
    "height": "calc(100% - 180px)",
    "left": "10px",
    "top": "150px",
    "width": "255px"
   },
   "toc_section_display": true,
   "toc_window_display": true
  },
  "varInspector": {
   "cols": {
    "lenName": 16,
    "lenType": 16,
    "lenVar": 40
   },
   "kernels_config": {
    "python": {
     "delete_cmd_postfix": "",
     "delete_cmd_prefix": "del ",
     "library": "var_list.py",
     "varRefreshCmd": "print(var_dic_list())"
    },
    "r": {
     "delete_cmd_postfix": ") ",
     "delete_cmd_prefix": "rm(",
     "library": "var_list.r",
     "varRefreshCmd": "cat(var_dic_list()) "
    }
   },
   "position": {
    "height": "339px",
    "left": "1324px",
    "right": "20px",
    "top": "120px",
    "width": "336px"
   },
   "types_to_exclude": [
    "module",
    "function",
    "builtin_function_or_method",
    "instance",
    "_Feature"
   ],
   "window_display": false
  }
 },
 "nbformat": 4,
 "nbformat_minor": 4
}

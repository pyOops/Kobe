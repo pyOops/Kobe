{
 "cells": [
  {
   "cell_type": "markdown",
   "metadata": {
    "toc": true
   },
   "source": [
    "<h1>Table of Contents<span class=\"tocSkip\"></span></h1>\n",
    "<div class=\"toc\"><ul class=\"toc-item\"><li><span><a href=\"#CHAPTER-1---INTRODUCTION-TO-COMPUTING\" data-toc-modified-id=\"CHAPTER-1---INTRODUCTION-TO-COMPUTING-1\">CHAPTER 1 - INTRODUCTION TO COMPUTING</a></span></li><li><span><a href=\"#1-Introduction\" data-toc-modified-id=\"1-Introduction-2\">1 Introduction</a></span><ul class=\"toc-item\"><li><span><a href=\"#1.1-Important-Notes\" data-toc-modified-id=\"1.1-Important-Notes-2.1\">1.1 Important Notes</a></span></li></ul></li><li><span><a href=\"#2-Jupyter-Notebooks\" data-toc-modified-id=\"2-Jupyter-Notebooks-3\">2 Jupyter Notebooks</a></span><ul class=\"toc-item\"><li><span><a href=\"#2.1-Markdown\" data-toc-modified-id=\"2.1-Markdown-3.1\">2.1 Markdown</a></span><ul class=\"toc-item\"><li><span><a href=\"#2.1.1-Headers\" data-toc-modified-id=\"2.1.1-Headers-3.1.1\">2.1.1 Headers</a></span></li><li><span><a href=\"#2.1.2-Emphasis\" data-toc-modified-id=\"2.1.2-Emphasis-3.1.2\">2.1.2 Emphasis</a></span></li><li><span><a href=\"#2.1.3-Lists\" data-toc-modified-id=\"2.1.3-Lists-3.1.3\">2.1.3 Lists</a></span><ul class=\"toc-item\"><li><span><a href=\"#Numbered-lists\" data-toc-modified-id=\"Numbered-lists-3.1.3.1\">Numbered lists</a></span></li><li><span><a href=\"#Bulletted-lists\" data-toc-modified-id=\"Bulletted-lists-3.1.3.2\">Bulletted lists</a></span></li></ul></li><li><span><a href=\"#2.1.4-Horizontal-lines\" data-toc-modified-id=\"2.1.4-Horizontal-lines-3.1.4\">2.1.4 Horizontal lines</a></span></li><li><span><a href=\"#2.1.5-Equations\" data-toc-modified-id=\"2.1.5-Equations-3.1.5\">2.1.5 Equations</a></span><ul class=\"toc-item\"><li><span><a href=\"#Greek-Letters\" data-toc-modified-id=\"Greek-Letters-3.1.5.1\">Greek Letters</a></span></li><li><span><a href=\"#Maths\" data-toc-modified-id=\"Maths-3.1.5.2\">Maths</a></span></li><li><span><a href=\"#Matrices\" data-toc-modified-id=\"Matrices-3.1.5.3\">Matrices</a></span></li></ul></li><li><span><a href=\"#2.1.6-Links\" data-toc-modified-id=\"2.1.6-Links-3.1.6\">2.1.6 Links</a></span></li><li><span><a href=\"#2.1.7-Tables\" data-toc-modified-id=\"2.1.7-Tables-3.1.7\">2.1.7 Tables</a></span></li></ul></li><li><span><a href=\"#2.2-Code-Cells\" data-toc-modified-id=\"2.2-Code-Cells-3.2\">2.2 Code Cells</a></span></li><li><span><a href=\"#2.3-nb-extension\" data-toc-modified-id=\"2.3-nb-extension-3.3\">2.3 nb extension</a></span></li></ul></li><li><span><a href=\"#3-Integrated-Development-Environments-(IDE)\" data-toc-modified-id=\"3-Integrated-Development-Environments-(IDE)-4\">3 Integrated Development Environments (IDE)</a></span></li><li><span><a href=\"#4-Microsoft-Excel\" data-toc-modified-id=\"4-Microsoft-Excel-5\">4 Microsoft Excel</a></span></li><li><span><a href=\"#5-Further-reading\" data-toc-modified-id=\"5-Further-reading-6\">5 Further reading</a></span></li><li><span><a href=\"#6-Importing-your-code\" data-toc-modified-id=\"6-Importing-your-code-7\">6 Importing your code</a></span><ul class=\"toc-item\"><li><span><a href=\"#6.1-%run-jupyter-file\" data-toc-modified-id=\"6.1-%run-jupyter-file-7.1\">6.1 %run jupyter file</a></span></li><li><span><a href=\"#6.2-%run-python-file\" data-toc-modified-id=\"6.2-%run-python-file-7.2\">6.2 %run python file</a></span></li><li><span><a href=\"#6.3-%load-python-file\" data-toc-modified-id=\"6.3-%load-python-file-7.3\">6.3 %load python file</a></span></li><li><span><a href=\"#6.4-import\" data-toc-modified-id=\"6.4-import-7.4\">6.4 import</a></span></li><li><span><a href=\"#Exercise\" data-toc-modified-id=\"Exercise-7.5\">Exercise</a></span></li></ul></li></ul></div>"
   ]
  },
  {
   "cell_type": "markdown",
   "metadata": {
    "id": "zJbuQc4te2iZ"
   },
   "source": [
    "# CHAPTER 1 - INTRODUCTION TO COMPUTING"
   ]
  },
  {
   "cell_type": "markdown",
   "metadata": {
    "id": "2MTJFy-Ne2id"
   },
   "source": [
    "# 1 Introduction\n",
    "\n",
    "The aim of the computing element of this module is to provide you with a set of tools for data analysis and numerical modelling using computational methods. The tools you will use include microsoft excel spreadsheets, python programmes and jupyter notebooks. Since this module is about systems you will write systems of programmes which will interact. This might include python programmes which interact with excel workbooks or multiple python programmes or jupyter notebooks and python programmes. So before you open up your python editor, use the system engineering approaches you have learnt in this module to identify the requirements before decomposing your program into smaller functions. Think also how you can implement the software system and verify and validate each function and the whole program.\n",
    "\n",
    "In the Part 1 Design and Computing module you learnt the fundamentals of python programming. This generally required you to write python code from scratch to perform basic calculations and operations. This is a very important skill, but one of the benefits of a programming language like python is the very large user base and packages of functions. This module will make use of the inbuilt functions within modules such as NumPy, SciPy, Matplotlib and Pandas.\n",
    "\n",
    "You will also use Microsoft Excel worksheets to perform some basic calculations. Excel is a very powerful piece of software which is used extensively in industry. It is very useful for storing and visualizing data. However, there are some operations which are better performed in a programming language such as python. I tend to use Excel for storing data, performing basic operations such as sorting, filtering and producing formatted tables. I quickly found that in order to produce good quality graphs that it is better to use a scripting language such as python, as this allows you much more control over the final graph.\n",
    "\n",
    "Finally, jupyter notebooks are used to provide you with the notes for the computing part of the module. The main reason for this is that it allows you to ineract with the python code examples provided in the notes and means the notes are more of an interactive workbook than static notes. It also allows the code examples to be copied into an Interactive Development Enviroment (IDE) such as Spyder without errors."
   ]
  },
  {
   "cell_type": "markdown",
   "metadata": {
    "id": "CKPfB1s9e2ie"
   },
   "source": [
    "## 1.1 Important Notes\n",
    "\n",
    "For the computing part of this module you will need access to python 3.8, jupyter notebooks and microsoft excel. The simplest way of accessing this is to use a University UDE machine in one of the campus computer rooms.\n",
    "\n",
    "The software is also available remotely from any device through the [Southampton Virtual Environment (SVE)]\n",
    "(http://sve.soton.ac.uk \"SVE\"). The SVE currently has Anaconda3 - 2019.07 and Anaconda3 - 2020.07 installed. If available use the latest (Anaconda3 -2020.07) version.\n",
    "\n",
    "If you decide to install python on your own computer, you can download the latest version of [Anaconda](https://www.anaconda.com/products/individual \"Anaconda Individual Edition Download\")\n",
    "\n",
    "If you are using other versions of python, then you need to ensure that any work you submit for assessment works correctly (as you intended) on the university installation of anaconda.\n"
   ]
  },
  {
   "cell_type": "markdown",
   "metadata": {
    "id": "n6wKRwOze2if"
   },
   "source": [
    "# 2 Jupyter Notebooks\n",
    "\n",
    "[Jupyter](https://jupyter.org/) notebooks combine python code cells and markdown language which allows you to create richly formated interactive documents. We will look at these in more details in the next chapter.\n",
    "\n",
    "Start jupyter notebooks by typing **jupyter notebook** at the prompt or Run Jupyter Notebook from the start menu or from Anaconda Navigator. Jupyter notebooks will start in the default web browser, so you may want to change this if it is not your preferred browser. You will need to change the web browser in **default apps**.\n",
    "\n",
    "The notes for the computing part of this modue will be written using Jupyter notebooks. This should allow you to interact with the example python code and copy and paste code into the Spyder IDE easily without formatting errors.\n",
    "\n",
    "If you have a google account, you can also view and edit the jupyter notebook in [google colab](http://colab.research.google.com/notebooks/intro.ipynb), which allows online creation and editing of jupyter notebooks and the files are stored on google drive. Note that there are some small differences between the capabilities of google colab and juyter notebook.\n",
    "\n",
    "Start by creating a new file using the default python kernel. Save the file, be careful to note the location of the saved file, as this may depend on how anaconda has been installed on the PC you are using. To create a new cell click the + sign on the tool bar. You can then change the type of cell using the drop down menu on the toolbar, select Markdown to begin creating text. Double click on any of the markdown cell to see the markdown code. Run the cell to view the formatted output."
   ]
  },
  {
   "cell_type": "markdown",
   "metadata": {
    "id": "jSCzqNLWe2if"
   },
   "source": [
    "## 2.1 Markdown\n",
    "\n",
    "Markdown is a text-to-html conversion tool. The main aim  of markdown is to make text as readable as possible. Here are some simple markdown commands you may find useful:\n",
    "\n",
    "### 2.1.1 Headers\n",
    "\n",
    "You can create headers in your markdown using the # charachter to specify the heading level. Note that I have suppressed the headings below using the \\ character before the # characters in order to preserve the formating of this document\n",
    "\n",
    "\\# Heading 1\n",
    "\n",
    "\\## Heading 2\n",
    "\n",
    "\\### Heading 3\n",
    "\n",
    "\\#### Heading 4\n",
    "\n",
    "\\##### Heading 5\n",
    "\n",
    "\\###### Heading 6\n",
    "\n",
    "\n",
    "### 2.1.2 Emphasis\n",
    "\n",
    "`*italics*` - *use a single asterisk before and after the text you want in italics.*\n",
    "\n",
    "`**Bold**` - **To make text bold use two asterisks before and after the text you want in bold.**\n",
    "\n",
    "`**_Bold Italics_**` - **_For bold italics use two asterisks and an underscore before and an underscore and two asterisks  after_**.\n",
    "\n",
    "`~~Strike Through~~` - ~~Use two tildes before and after the text you want to strike through.~~\n",
    "\n",
    "\\` inline code \\`   - `use the backtick before and after inline code to show a grey background. This character is not the same as the apostrophe `\n",
    "\n",
    "\n",
    "**Please use our module name to practise.** \n",
    "\n",
    "*Systems Design and Computing for Ships*\n",
    "\n",
    "\n",
    "### 2.1.3 Lists\n",
    "\n",
    "#### Numbered lists\n",
    "1. Use a number to create a numbered list item.\n",
    "1. You can use any number\n",
    "1. and you don't have to correctly order them.\n",
    "2. as markdown will sort this out for you.\n",
    "  1. You can create sub-lists\n",
    "  2. by putting two spaces in front of the number.\n",
    "     1. etc\n",
    "       1. etc\n",
    "       1. etc\n",
    "       \n",
    "#### Bulletted lists\n",
    "- Use a hyphen to create a bullet point\n",
    "* The next bullet point can use other characters such as the asterisk\n",
    "    - tab indent to create the next level\n",
    "        * etc \n",
    "            - etc\n",
    "            - Note that you cant change the bullet symbol, it is pre-defined.\n",
    "  \n",
    "### 2.1.4 Horizontal lines\n",
    "\n",
    "Use three or more asterisks, hyphens or underscores (Note this should produce different line styles but in some versions of jupyter they all produce a single solid line).\n",
    "\n",
    "***\n",
    "\n",
    "---\n",
    "\n",
    "___"
   ]
  },
  {
   "cell_type": "markdown",
   "metadata": {
    "id": "uWlJHaFMe2ig"
   },
   "source": [
    "### 2.1.5 Equations\n",
    "\n",
    "You can write equations in a similar fashion to LaTex, using single dollar signs before and after for inline equations and double dollar signs for centred equations. So as an example let us write a simple inline equation $ y=sin(\\omega t) $.\n",
    "\n",
    "For more complicated equations use the double dollar signs: $$ \\zeta = \\sum_{N=0}^{\\infty}\\zeta_0 sin(\\omega t) $$\n"
   ]
  },
  {
   "cell_type": "markdown",
   "metadata": {},
   "source": [
    "1. Please to change the new rows from code to Markdown \n",
    "1. Add a space betwen $\\omega$ and t"
   ]
  },
  {
   "cell_type": "markdown",
   "metadata": {},
   "source": [
    "Create your equations now"
   ]
  },
  {
   "cell_type": "markdown",
   "metadata": {},
   "source": []
  },
  {
   "cell_type": "markdown",
   "metadata": {
    "ExecuteTime": {
     "end_time": "2020-09-15T12:20:10.408130Z",
     "start_time": "2020-09-15T12:20:10.403133Z"
    },
    "id": "zkHIwxD7e2ig"
   },
   "source": [
    "#### Greek Letters\n",
    "\n",
    "The table below shows the lowercase greek letters and their latex code. Capital letters are usually created by capitalising the first letter of the latex, so for example lower case $\\delta$ is `\\delta`  and upper case $\\Delta$ is `\\Delta`.\n",
    "\n",
    " \n",
    "| Symbol     | Latex    |   | Symbol     | Latex    |\n",
    "|------------|----------|---|------------|----------|\n",
    "| $\\alpha$   | \\alpha   |   | $\\nu$      | \\nu      |\n",
    "| $\\beta$    | \\beta    |   | $\\xi$      | \\xi      |\n",
    "| $\\gamma$   | \\gamma   |   | $o$        | o        |\n",
    "| $\\delta$   | \\delta   |   | $\\pi$      | \\pi      |\n",
    "| $\\epsilon$ | \\epsilon |   | $\\rho$     | \\rho     |\n",
    "| $\\zeta$    | \\zeta    |   | $\\sigma$   | \\sigma   |\n",
    "| $\\eta$     | \\eta     |   | $\\tau$     | \\tau     |\n",
    "| $\\theta$   | \\theta   |   | $\\upsilon$ | \\upsilon |\n",
    "| $\\iota$    | \\iota    |   | $\\phi$     | \\phi     |\n",
    "| $\\kappa$   | \\kappa   |   | $\\chi$     | \\chi     |\n",
    "| $\\lambda$  | \\lambda  |   | $\\psi$     | \\psi     |\n",
    "| $\\mu$      | \\mu      |   | $\\omega$   | \\omega   |"
   ]
  },
  {
   "cell_type": "markdown",
   "metadata": {
    "id": "kG4Bz99Qe2ih"
   },
   "source": [
    "#### Maths\n",
    "\n",
    "Some basic maths operators are shown in the table below:\n",
    "\n",
    "|             Math            |            output            |            latex           |\n",
    "|:----------------------------|:----------------------------:|:--------------------------:|\n",
    "| Parenthesis, round brackets | $ (x+y) $                    | `(x+y) `                     |\n",
    "| Square brackets             | $[x+y]$                      | `[x+y]`                      |\n",
    "| Braces, curly brackets      | $\\{x+y\\}$                    | `\\{x+y\\} `                   |\n",
    "| Angle brackets              | $\\langle x+y \\rangle$        | `\\langle x+y \\rangle `       |\n",
    "| Pipes; vertical bars        | $\\|x+y\\|$                    | `\\|x+y\\| `                   |\n",
    "| large square brackets | $\\left[ \\frac{x}{y} \\right]$ | `\\left[ \\frac{x}{y} \\right] `|\n",
    "| fractions                   | $\\frac{X}{Y}$                | `\\frac{X}{Y} `              |\n",
    "| integrals                   | $\\int_{a}^{b} x^3 dx$        | `\\int_{a}^{b} x^3 dx `       |\n",
    "| Sum                         | $\\sum_{n=0}^{\\infty} x^{n}$  | `\\sum_{n=0}^{\\infty} x^{n}`  |\n",
    "| Limits                      | $\\lim_{x\\to0}$               | `\\lim_{x\\to 0} f(x) `        |"
   ]
  },
  {
   "cell_type": "markdown",
   "metadata": {
    "id": "KjC18cdSe2ii"
   },
   "source": [
    "#### Matrices\n",
    "\n",
    "|      Math      |          output          |\n",
    "|:--------------:|:------------------------:|\n",
    "| Plain          | $ \\begin{matrix} 1 & 4 & 2 \\\\ 5 & 3 & 6 \\end{matrix} $ |\n",
    "| Parenthesis    | $\\begin{pmatrix} 1 & 4 & 2 \\\\ 5 & 3 & 6 \\end{pmatrix}$   |\n",
    "| Brackets       | $\\begin{bmatrix} 1 & 4 & 2 \\\\ 5 & 3 & 6 \\end{bmatrix}$ |\n",
    "| Braces         |  $\\begin{Bmatrix} 1 & 4 & 2 \\\\ 5 & 3 & 6 \\end{Bmatrix} $     |\n",
    "| Pipes          | $\\begin{vmatrix} 1 & 4 & 2 \\\\ 5 & 3 & 6 \\end{vmatrix}$|  \n",
    "| Double Pipes   | $\\begin{Vmatrix} 1 & 4 & 2 \\\\ 5 & 3 & 6 \\end{Vmatrix} $|\n",
    "| Small matrices | $ \\big(\\begin{smallmatrix} 1 & 4 & 2 \\\\ 5 & 3 & 6 \\end{smallmatrix} \\big)$     |"
   ]
  },
  {
   "cell_type": "markdown",
   "metadata": {
    "id": "uIadGUTYe2ii"
   },
   "source": [
    "### 2.1.6 Links\n",
    "\n",
    "[I'm an inline-style link to UoS Homepage](http://www.southampton.ac.uk)\n",
    "\n",
    "[I'm an inline-style link to UoS Homepage with tooltip](http://www.southampton.ac.uk \"UoS Homepage\")\n",
    "\n",
    "Create the HEU website now."
   ]
  },
  {
   "cell_type": "markdown",
   "metadata": {},
   "source": [
    "[I'm a JEI student in HEU](http://www.hrbeu.edu.cn)"
   ]
  },
  {
   "cell_type": "markdown",
   "metadata": {
    "id": "CXb6-Ou7e2ii"
   },
   "source": [
    "### 2.1.7 Tables\n",
    "\n",
    "You can create simple tables using markdown. Here is how to create markdown tables. \n",
    "1. Use the pipe charachter (\\|) to create the cells. The first row has the column headings; \n",
    "2. the second row must have hyphens (\\---) in otherwise it won't create a table. The colons (\\:) are used to justify the text to the left, centred or right.\n",
    "\n",
    "|Heading 1 | Heading 2 | Heading 3 |\n",
    "|:------------|:---------:|---------:|\n",
    "|1           | 10      | 22      |\n",
    "|2           | 9       |  24     |\n",
    "\n",
    "\n",
    "[Formatting markdown tables](http://www.tablesgenerator.com/markdown_tables) An app which allows you to input and change the format of different tables between languages. You can copy/paste code into the app and get it to print a markdown table."
   ]
  },
  {
   "cell_type": "markdown",
   "metadata": {},
   "source": [
    "1. What happens to the table if you delete the second line with the hyphens in?\n",
    "2. please use the colons to justify the text centred. "
   ]
  },
  {
   "cell_type": "markdown",
   "metadata": {
    "id": "o2NiwFDwe2ij"
   },
   "source": [
    "## 2.2 Code Cells\n",
    "\n",
    "Now click the + sign on the toolbar to add a new **code** cell and write some simple python code:"
   ]
  },
  {
   "cell_type": "code",
   "execution_count": 62,
   "metadata": {
    "scrolled": true
   },
   "outputs": [
    {
     "name": "stdout",
     "output_type": "stream",
     "text": [
      "Hello Jupyter!!\n"
     ]
    }
   ],
   "source": [
    "print ('Hello Jupyter!!')    "
   ]
  },
  {
   "cell_type": "code",
   "execution_count": 63,
   "metadata": {},
   "outputs": [
    {
     "data": {
      "text/plain": [
       "2.0"
      ]
     },
     "execution_count": 63,
     "metadata": {},
     "output_type": "execute_result"
    }
   ],
   "source": [
    "import math \n",
    "math.sqrt(4)"
   ]
  },
  {
   "cell_type": "code",
   "execution_count": 26,
   "metadata": {
    "ExecuteTime": {
     "end_time": "2022-09-16T11:10:10.318620Z",
     "start_time": "2022-09-16T11:10:10.299630Z"
    }
   },
   "outputs": [
    {
     "name": "stdout",
     "output_type": "stream",
     "text": [
      "Area of a circle of radius 2m = 12.566370614359172m^2 \n",
      "\n"
     ]
    }
   ],
   "source": [
    "import math as mp\n",
    "pi=mp.pi\n",
    "r=2\n",
    "A=pi*r**2\n",
    "print('Area of a circle of radius {}m = {}m^2 \\n'.format(r,A))"
   ]
  },
  {
   "cell_type": "code",
   "execution_count": 27,
   "metadata": {},
   "outputs": [
    {
     "name": "stdout",
     "output_type": "stream",
     "text": [
      " 15.566370614359172\n"
     ]
    }
   ],
   "source": [
    "print ('', A+3)"
   ]
  },
  {
   "cell_type": "code",
   "execution_count": 30,
   "metadata": {},
   "outputs": [
    {
     "data": {
      "text/plain": [
       "12.566370614359172"
      ]
     },
     "execution_count": 30,
     "metadata": {},
     "output_type": "execute_result"
    }
   ],
   "source": [
    "A"
   ]
  },
  {
   "cell_type": "markdown",
   "metadata": {},
   "source": [
    "In the example above, I have used a [format statement](https://www.w3schools.com/python/ref_string_format.asp) to insert the radius `r` and the calculated area `A` into a string and then print it. This is just \"for looks\" in this case, but it is a nice technique to know.\n",
    "\n",
    "\n",
    "One very import thing to remember is that the cells don't run in order automatically. So #1 tip is: Try to keep code together in a single cell block when possible. When it isn't possible, make sure to restart the kernel and Run all cells in the notebook frequently. That will avoid unpleasant surprises."
   ]
  },
  {
   "cell_type": "markdown",
   "metadata": {
    "id": "dlqrnOwPiwbE"
   },
   "source": [
    "Jupyter supports code completion, so for example create a code cell and type `mp.` then press the **_Tab key_**. This should then list all the possible completions available for the math module.\n",
    "Note in google colab you can use ctrl + space to bring up the list of possible completions."
   ]
  },
  {
   "cell_type": "code",
   "execution_count": null,
   "metadata": {},
   "outputs": [],
   "source": [
    "A=mp."
   ]
  },
  {
   "cell_type": "markdown",
   "metadata": {
    "id": "x6re79t5e2ik"
   },
   "source": [
    "You will soon notice that Jupyter only outputs the last statement evaluated in the code cell. So for example in the simple code below it only outputs the value of variable b. "
   ]
  },
  {
   "cell_type": "code",
   "execution_count": 31,
   "metadata": {
    "ExecuteTime": {
     "end_time": "2022-09-16T11:10:11.236069Z",
     "start_time": "2022-09-16T11:10:11.220079Z"
    },
    "colab": {
     "base_uri": "https://localhost:8080/"
    },
    "executionInfo": {
     "elapsed": 6,
     "status": "ok",
     "timestamp": 1632410582513,
     "user": {
      "displayName": "Dominic Taunton",
      "photoUrl": "https://lh3.googleusercontent.com/a-/AOh14Gi_Yf8FdeF7tcuNjcv_HStq585OLQyw81WwWe6XQw=s64",
      "userId": "05563124449967144667"
     },
     "user_tz": -60
    },
    "id": "bbS75r5fe2il",
    "outputId": "5ac0a92c-80da-4efc-eb46-8e457ecb0b67"
   },
   "outputs": [
    {
     "data": {
      "text/plain": [
       "30"
      ]
     },
     "execution_count": 31,
     "metadata": {},
     "output_type": "execute_result"
    }
   ],
   "source": [
    "a = 10\n",
    "b = 30\n",
    "a\n",
    "b"
   ]
  },
  {
   "cell_type": "markdown",
   "metadata": {},
   "source": [
    "In order to get around this problem, you can use the print command."
   ]
  },
  {
   "cell_type": "code",
   "execution_count": 35,
   "metadata": {
    "ExecuteTime": {
     "end_time": "2022-09-16T11:10:11.535891Z",
     "start_time": "2022-09-16T11:10:11.519900Z"
    }
   },
   "outputs": [
    {
     "name": "stdout",
     "output_type": "stream",
     "text": [
      "a= 10\n",
      "b= 30\n"
     ]
    }
   ],
   "source": [
    "a=10\n",
    "b=30\n",
    "print('a=',a)\n",
    "print('b=',b)"
   ]
  },
  {
   "cell_type": "markdown",
   "metadata": {},
   "source": [
    "## 2.3 nb extension"
   ]
  },
  {
   "cell_type": "markdown",
   "metadata": {
    "id": "nmdzw0jne2il"
   },
   "source": [
    "There are a number of useful extension available for jupyter. To install the jupyter extensions paste or type the following command into a the Annaconda command prompt. \n",
    "\n",
    "conda install -c conda-forge jupyter_contrib_nbextensions\n",
    "\n",
    "jupyter contrib nbextension install --user\n",
    "\n",
    "conda install -c conda-forge/label/cf202003 jupyter_contrib_nbextensions\n",
    "\n",
    "Then when it has finished installing, restart jupyter.\n",
    "\n",
    "I suggest you start with the following extensions:\n",
    "\n",
    "- Variable Inspector - allows you to view the variables defined in notebook as they are evaluated.\n",
    "- Table of Contents (2)\n",
    "- Code prettify\n",
    "- AddBefore - replaces the + button to add a cell with two buttons for before or after.\n",
    "- Hinterland - Enable code autocompletion menu for every keypress in a code cell, instead of only enabling it with tab\n",
    "- Live Markdown Preview\n",
    "- Python Markdown -  allows you to call variables in markdown cells"
   ]
  },
  {
   "cell_type": "markdown",
   "metadata": {
    "variables": {
     "a": "<p><strong>NameError</strong>: name &#39;a&#39; is not defined</p>\n",
     "b": "<p><strong>NameError</strong>: name &#39;b&#39; is not defined</p>\n"
    }
   },
   "source": [
    "A really nice feature of the nbextensions is **Python Markdown**, is this option allows you to call variables defined in the code cells in your markdown using double curly brackets. So for example the variables a and b from the code cell above be can be called, so that b = {{b}} and a = {{a}}."
   ]
  },
  {
   "cell_type": "markdown",
   "metadata": {
    "id": "WLnxYkzfj1_c"
   },
   "source": [
    "Finally, remember that Jupyter notebooks are saved with the file extension ***.ipynb**."
   ]
  },
  {
   "cell_type": "markdown",
   "metadata": {
    "ExecuteTime": {
     "end_time": "2019-09-27T10:34:53.537162Z",
     "start_time": "2019-09-27T10:34:53.527138Z"
    },
    "id": "gXv06pgce2il"
   },
   "source": [
    "# 3 Integrated Development Environments (IDE)\n",
    "\n",
    "An integrated development environment (IDE) is a software application which incorporates a number of tools for programmers. You should be familiar with the Spyder IDE from your Part I computing. In this module we will look at Spyder and the tools which can help you develop your code. The main features of the Spyder IDE are:\n",
    "* Code editor\n",
    "* Debugging tools\n",
    "* Variable editor\n",
    "* Command history\n",
    "* Console interpreter\n",
    "\n",
    "1. Open the Spider\n"
   ]
  },
  {
   "cell_type": "code",
   "execution_count": 38,
   "metadata": {},
   "outputs": [],
   "source": [
    "a=10"
   ]
  },
  {
   "cell_type": "code",
   "execution_count": 39,
   "metadata": {},
   "outputs": [],
   "source": [
    "def plus_one(x):\n",
    "    print(x + 1)\n",
    "    \n",
    "def minus_one(x):\n",
    "    print(x - 1)\n",
    "\n",
    "\n",
    "def sum_x_y(x,y):\n",
    "    print(x + y)      "
   ]
  },
  {
   "cell_type": "markdown",
   "metadata": {
    "ExecuteTime": {
     "end_time": "2019-09-27T10:34:47.945521Z",
     "start_time": "2019-09-27T10:34:47.903687Z"
    },
    "id": "n6RbONt6e2il"
   },
   "source": [
    "# 4 Microsoft Excel\n",
    "\n",
    "Microsoft Excel is the industry standard spreadsheet package. In this module you will use spreadsheets for a variety of purposes. We will look at some basic calculations which can be performed in Excel, but hopefully you will quickly see the limitations of spreadsheets and power of python. The format of the labs will start by showing how to perform the calculations in excel, before showing the same calculation in python before showing more advanced calculations in python. \n",
    "\n",
    "1. Remember that a single workbook can consist of multiple worksheets. So it is important to think in terms of the whole workbook and not try and put too much on each worksheet. It is better to use multiple worksheets than to have to scroll to see all the data.\n",
    "\n",
    "2. Create a contents page as the first worksheet in every workbook. Use links to the other worksheets to help you navigate. On this contents page provide a description of the workbook with instructions on how to use the worksheets. \n",
    "\n",
    "3. Use a central location in your workbook for the variables and parameters. Provide information about these variables such as the range of values acceptable.\n",
    "\n",
    "4. Carefully select the precision you use to output the results of calculations. Usually 2 or 3 significant figures is adequate. \n",
    "\n",
    "5. Where possible, specify the units of your variables and results.\n",
    "\n",
    "As an example look at **MyRudderExpDataStudent.xlsx** on blackboard.\n",
    "\n"
   ]
  },
  {
   "cell_type": "markdown",
   "metadata": {
    "id": "t7Pu7fBfe2im"
   },
   "source": [
    "\n",
    "# 5 Further reading\n",
    "\n",
    "Here are a few links to resources on using jupyter notebooks (as well as to show you how to use hyperlinks in markdown):\n",
    "\n",
    "- [Publication quality jupyter notebooks](http://blog.juliusschulz.de/blog/ultimate-ipython-notebook) An article on how to create higher quality jupyter notebooks ready for publication in reports. Includes information on how to install jupyter notebook extentions which essentially adds more functionality to the jupyter notebook.\n",
    "- [Good examples of notebooks](http://nb.bianp.net/sort/views/) This website hosts links to notebooks which show good quality prose and programming inside jupyter notebooks. There are a few programming textbooks written entirely inside jupyter notebooks which allow you to edit code to see the results. Quite a good place to steal ideas and scripts for your own use.\n"
   ]
  },
  {
   "cell_type": "markdown",
   "metadata": {
    "id": "8wCkpzI_8y4h"
   },
   "source": [
    "# 6 Importing your code"
   ]
  },
  {
   "cell_type": "markdown",
   "metadata": {},
   "source": [
    "In this module you will write a number of functions and scripts. You should write these in such a way that they can be re-used. One approach is to create a python py file in which you define all your functions, you could then import this python file in the same manner as you would import the numpy module."
   ]
  },
  {
   "cell_type": "markdown",
   "metadata": {
    "id": "XCTOeKO38y4h"
   },
   "source": [
    "You should be familiar with importing standard modules such as numpy using commands such as:\n",
    "\n",
    "` import numpy as np `\n",
    "\n",
    "In the same way it is possible to import functions you have defined in previous python py files or jupyter notebooks.\n",
    "\n",
    "1. Use `%run example.ipynb` to run your jupyter notebook\n",
    "2. Use `%run example.py` to run your python file\n",
    "3. Use `%load example.py` to load your python file\n",
    "4. Use `import example.py as ex` to import your python file as a module\n",
    "\n",
    "Start by look at the help for `%run` and `%load` and see how they differ."
   ]
  },
  {
   "cell_type": "code",
   "execution_count": 41,
   "metadata": {
    "ExecuteTime": {
     "end_time": "2022-09-16T11:10:14.272252Z",
     "start_time": "2022-09-16T11:10:14.256263Z"
    },
    "id": "rLTElR6T8y4i"
   },
   "outputs": [],
   "source": [
    "%run?"
   ]
  },
  {
   "cell_type": "code",
   "execution_count": null,
   "metadata": {},
   "outputs": [],
   "source": [
    "%load?"
   ]
  },
  {
   "cell_type": "markdown",
   "metadata": {
    "id": "eiWDL7118y4j"
   },
   "source": [
    "## 6.1 %run jupyter file\n",
    "You can use the magic command `%run` to run your jupyter notebook. Try this for the **examples.ipynb** jupyter notebook:\n",
    "\n",
    "Firstly reset the workspace, then run examples.ipynb"
   ]
  },
  {
   "cell_type": "code",
   "execution_count": 47,
   "metadata": {
    "ExecuteTime": {
     "end_time": "2022-09-16T11:10:14.694997Z",
     "start_time": "2022-09-16T11:10:14.528097Z"
    }
   },
   "outputs": [
    {
     "name": "stdout",
     "output_type": "stream",
     "text": [
      "4\n",
      "4\n",
      "8\n"
     ]
    }
   ],
   "source": [
    "%reset -f\n",
    "%run examples.ipynb"
   ]
  },
  {
   "cell_type": "markdown",
   "metadata": {
    "id": "Pe05A0Rt8y4m"
   },
   "source": [
    "## 6.2 %run python file\n",
    "\n",
    "You can also use the magic command `%run` to run a python file. Download **examples.py** from blackboard and use %run to run this file. Since the functions are only defined, these functions should then be available in the jupyter notebook."
   ]
  },
  {
   "cell_type": "code",
   "execution_count": 49,
   "metadata": {
    "ExecuteTime": {
     "end_time": "2022-09-16T11:10:15.218683Z",
     "start_time": "2022-09-16T11:10:15.145728Z"
    },
    "id": "PnNv1Igx8y4n",
    "outputId": "f682e014-82ee-47ca-8f7c-5f691c67c386"
   },
   "outputs": [
    {
     "name": "stdout",
     "output_type": "stream",
     "text": [
      "5\n"
     ]
    }
   ],
   "source": [
    "%reset -f\n",
    "%run examples.py\n",
    "sum_x_y(3,2)"
   ]
  },
  {
   "cell_type": "markdown",
   "metadata": {
    "id": "rms-n2ao8y4o"
   },
   "source": [
    "## 6.3 %load python file\n",
    "\n",
    "\n",
    "You can use the magic command `%load` to load the contents of a python file into a code cell. What you will discover is that if you type the command `%load examples.py` and execute the cell, it will comment out your original command and show the code from the file. You will then have to re-run the cell in order to evaluate the contents. Then the functions defined in the py file will be available."
   ]
  },
  {
   "cell_type": "code",
   "execution_count": 56,
   "metadata": {
    "ExecuteTime": {
     "end_time": "2022-09-16T11:10:15.518503Z",
     "start_time": "2022-09-16T11:10:15.443549Z"
    }
   },
   "outputs": [],
   "source": [
    "%reset -f"
   ]
  },
  {
   "cell_type": "code",
   "execution_count": 57,
   "metadata": {},
   "outputs": [],
   "source": [
    "# %load examples.py\n",
    "def plus_one(x):\n",
    "    print(x + 1)\n",
    "    \n",
    "def minus_one(x):\n",
    "    print(x - 1)\n",
    "\n",
    "\n",
    "def sum_x_y(x,y):\n",
    "    print(x + y)  "
   ]
  },
  {
   "cell_type": "markdown",
   "metadata": {
    "id": "xxjHgVrF8y4q"
   },
   "source": [
    "Remember to re-run the cell above otherwise it won't define the functions."
   ]
  },
  {
   "cell_type": "code",
   "execution_count": 58,
   "metadata": {
    "ExecuteTime": {
     "end_time": "2022-09-16T11:10:15.771354Z",
     "start_time": "2022-09-16T11:10:15.760359Z"
    },
    "id": "BaxyZjZ88y4q",
    "outputId": "3256a1b6-56ff-4495-b26e-69f86ff493f9"
   },
   "outputs": [
    {
     "name": "stdout",
     "output_type": "stream",
     "text": [
      "7\n"
     ]
    }
   ],
   "source": [
    "plus_one(6)"
   ]
  },
  {
   "cell_type": "markdown",
   "metadata": {
    "id": "2h-qIpqw8y4r"
   },
   "source": [
    "## 6.4 import\n",
    "\n",
    "The final method of re-using code is one you should be familar with already. You can import the function defined in any python py file. So in this case import the functions defined in **examples.py**."
   ]
  },
  {
   "cell_type": "code",
   "execution_count": 67,
   "metadata": {
    "ExecuteTime": {
     "end_time": "2022-09-16T11:10:16.147129Z",
     "start_time": "2022-09-16T11:10:16.076171Z"
    },
    "id": "B44PpcrB8y4s",
    "outputId": "75d8a505-1896-438b-b158-8fc05e0b1968"
   },
   "outputs": [
    {
     "name": "stdout",
     "output_type": "stream",
     "text": [
      "2\n",
      "4\n"
     ]
    }
   ],
   "source": [
    "%reset -f\n",
    "import examples as ex\n",
    "ex.minus_one(3)\n",
    "ex.plus_one(3)"
   ]
  },
  {
   "cell_type": "code",
   "execution_count": 65,
   "metadata": {
    "ExecuteTime": {
     "end_time": "2022-09-16T11:10:16.149128Z",
     "start_time": "2022-09-16T11:10:16.149128Z"
    },
    "scrolled": true
   },
   "outputs": [
    {
     "name": "stdout",
     "output_type": "stream",
     "text": [
      "2\n"
     ]
    }
   ],
   "source": [
    "%reset -f\n",
    "from examples import minus_one\n",
    "minus_one(3)"
   ]
  },
  {
   "cell_type": "markdown",
   "metadata": {},
   "source": [
    "## Exercise\n",
    "\n",
    "\n",
    "Quiz 1: Lab1Ex1.docx is a word document, try and recreate this document in jupyter notebook using markdown.. (3 marks) \n",
    "\n",
    "Quiz 2: Calculate the lift coefficient when r is not equal to existing rpm. (2 marks)\n",
    "\n",
    "Electrical individual. \n",
    "One Jupyter notebook and one Excel document. \n",
    "Submit to  teaching assistant at 15th Sep, 2023 (Friday). \n"
   ]
  }
 ],
 "metadata": {
  "celltoolbar": "无",
  "colab": {
   "name": "CH1-Introduction.ipynb",
   "provenance": []
  },
  "hide_input": false,
  "kernelspec": {
   "display_name": "Python 3 (ipykernel)",
   "language": "python",
   "name": "python3"
  },
  "language_info": {
   "codemirror_mode": {
    "name": "ipython",
    "version": 3
   },
   "file_extension": ".py",
   "mimetype": "text/x-python",
   "name": "python",
   "nbconvert_exporter": "python",
   "pygments_lexer": "ipython3",
   "version": "3.11.4"
  },
  "latex_envs": {
   "LaTeX_envs_menu_present": true,
   "autoclose": false,
   "autocomplete": true,
   "bibliofile": "biblio.bib",
   "cite_by": "apalike",
   "current_citInitial": 1,
   "eqLabelWithNumbers": true,
   "eqNumInitial": 1,
   "hotkeys": {
    "equation": "Ctrl-E",
    "itemize": "Ctrl-I"
   },
   "labels_anchors": false,
   "latex_user_defs": false,
   "report_style_numbering": false,
   "user_envs_cfg": false
  },
  "toc": {
   "base_numbering": 1,
   "nav_menu": {},
   "number_sections": false,
   "sideBar": true,
   "skip_h1_title": false,
   "title_cell": "Table of Contents",
   "title_sidebar": "Contents",
   "toc_cell": true,
   "toc_position": {
    "height": "calc(100% - 180px)",
    "left": "10px",
    "top": "150px",
    "width": "275.575px"
   },
   "toc_section_display": true,
   "toc_window_display": true
  },
  "varInspector": {
   "cols": {
    "lenName": 16,
    "lenType": 16,
    "lenVar": 40
   },
   "kernels_config": {
    "python": {
     "delete_cmd_postfix": "",
     "delete_cmd_prefix": "del ",
     "library": "var_list.py",
     "varRefreshCmd": "print(var_dic_list())"
    },
    "r": {
     "delete_cmd_postfix": ") ",
     "delete_cmd_prefix": "rm(",
     "library": "var_list.r",
     "varRefreshCmd": "cat(var_dic_list()) "
    }
   },
   "types_to_exclude": [
    "module",
    "function",
    "builtin_function_or_method",
    "instance",
    "_Feature"
   ],
   "window_display": false
  }
 },
 "nbformat": 4,
 "nbformat_minor": 4
}
